{
  "cells": [
    {
      "cell_type": "markdown",
      "metadata": {
        "id": "view-in-github",
        "colab_type": "text"
      },
      "source": [
        "<a href=\"https://colab.research.google.com/github/diaputr/machine-learning/blob/main/Modul_10_RNN.ipynb\" target=\"_parent\"><img src=\"https://colab.research.google.com/assets/colab-badge.svg\" alt=\"Open In Colab\"/></a>"
      ]
    },
    {
      "cell_type": "markdown",
      "metadata": {
        "id": "Oq1Ky4sEkHp_"
      },
      "source": [
        "## Praktikum 1"
      ]
    },
    {
      "cell_type": "code",
      "execution_count": null,
      "metadata": {
        "id": "njte0NlMje7x"
      },
      "outputs": [],
      "source": [
        "import numpy as np\n",
        "import tensorflow_datasets as tfds\n",
        "import tensorflow as tf\n",
        "\n",
        "tfds.disable_progress_bar()"
      ]
    },
    {
      "cell_type": "code",
      "execution_count": null,
      "metadata": {
        "id": "Aqhn30CdkDAm"
      },
      "outputs": [],
      "source": [
        "import matplotlib.pyplot as plt\n",
        "\n",
        "def plot_graphs(history, metric):\n",
        "  plt.plot(history.history[metric])\n",
        "  plt.plot(history.history['val_'+metric], '')\n",
        "  plt.xlabel(\"Epochs\")\n",
        "  plt.ylabel(metric)\n",
        "  plt.legend([metric, 'val_'+metric])"
      ]
    },
    {
      "cell_type": "code",
      "execution_count": null,
      "metadata": {
        "colab": {
          "base_uri": "https://localhost:8080/"
        },
        "id": "1Apr2A6RkSzW",
        "outputId": "4b783ea9-b577-4d48-d92e-9f29960b8504"
      },
      "outputs": [
        {
          "output_type": "stream",
          "name": "stdout",
          "text": [
            "Downloading and preparing dataset 80.23 MiB (download: 80.23 MiB, generated: Unknown size, total: 80.23 MiB) to /root/tensorflow_datasets/imdb_reviews/plain_text/1.0.0...\n",
            "Dataset imdb_reviews downloaded and prepared to /root/tensorflow_datasets/imdb_reviews/plain_text/1.0.0. Subsequent calls will reuse this data.\n"
          ]
        },
        {
          "output_type": "execute_result",
          "data": {
            "text/plain": [
              "(TensorSpec(shape=(), dtype=tf.string, name=None),\n",
              " TensorSpec(shape=(), dtype=tf.int64, name=None))"
            ]
          },
          "metadata": {},
          "execution_count": 3
        }
      ],
      "source": [
        "dataset, info = tfds.load('imdb_reviews', with_info=True,as_supervised=True)\n",
        "train_dataset, test_dataset = dataset['train'], dataset['test']\n",
        "\n",
        "train_dataset.element_spec"
      ]
    },
    {
      "cell_type": "code",
      "execution_count": null,
      "metadata": {
        "colab": {
          "base_uri": "https://localhost:8080/"
        },
        "id": "217N_tJ0kXQ2",
        "outputId": "7e881e36-54c1-479b-955e-67a144792b81"
      },
      "outputs": [
        {
          "output_type": "stream",
          "name": "stdout",
          "text": [
            "text:  b\"This was an absolutely terrible movie. Don't be lured in by Christopher Walken or Michael Ironside. Both are great actors, but this must simply be their worst role in history. Even their great acting could not redeem this movie's ridiculous storyline. This movie is an early nineties US propaganda piece. The most pathetic scenes were those when the Columbian rebels were making their cases for revolutions. Maria Conchita Alonso appeared phony, and her pseudo-love affair with Walken was nothing but a pathetic emotional plug in a movie that was devoid of any real meaning. I am disappointed that there are movies like this, ruining actor's like Christopher Walken's good name. I could barely sit through it.\"\n",
            "label:  0\n"
          ]
        }
      ],
      "source": [
        "for example, label in train_dataset.take(1):\n",
        "  print('text: ', example.numpy())\n",
        "  print('label: ', label.numpy())"
      ]
    },
    {
      "cell_type": "code",
      "execution_count": null,
      "metadata": {
        "colab": {
          "base_uri": "https://localhost:8080/"
        },
        "id": "C5pk1UdhkZ35",
        "outputId": "35d096e5-925b-4ca4-9499-4d6fb05f6a14"
      },
      "outputs": [
        {
          "output_type": "stream",
          "name": "stdout",
          "text": [
            "texts:  [b'Moe and Larry are newly henpecked husbands, having married Shemp\\'s demanding sisters. At his music studio, Shemp learns he will inherit a fortune if he marries someone himself! <br /><br />\"Husbands Beware\" is a remake of 1947\\'s \"Brideless Groom,\" widely considered by many to be one of the best Stooge films with Shemp. The remake contains most of the footage from that film. The new scenes, shot May 17, 1955, include the storyline of Moe and Larry marrying Shemp\\'s sisters, along with their cooking of a turkey laced with turpentine! A few new scenes are tacked onto the end of the film as well(a double for Dee Green was used; if you blink, you will miss the double\\'s appearance.) <br /><br />\"Husbands Beware\" would have made for a good film with just the plot line of marrying the sisters. Budget considerations, coupled with fewer bookings for two-reel comedies, influenced the decision to use older footage.<br /><br />Although completely new films were still being made by the Stooges, most of their releases by 1955-56 were made up of older films with a few new scenes tossed in. \"Husbands Beware,\" while one of these hybrids, is watchable and entertaining; we get to see most of \"Brideless Groom\" again, and the new scenes are funny enough to get the viewer through the film. This film is one of the last Stooge comedies to feature new footage of Shemp, and it was released six weeks after his death.<br /><br />7 out of 10.'\n",
            " b'This \"screwy comedy\" seems very forced. Indeed, the actors TRY very hard to make a go of an essentially unfunny script. And, as a result it doesn\\'t really go anywhere. The idea of a woman finding out she was pregnant after getting a quickie divorce just isn\\'t all that funny. And then, when Cooper sneaks off with the baby because he doesn\\'t want it put up for adoption just seems terribly unfunny and it\\'s really pushing hard to turn this into a comedy. It\\'s really a shame, too, as the actors were more capable than the script and I found myself just bored by the whole mess. Considering that Cooper made so many GOOD comedies, I recommend you see them instead.'\n",
            " b'Pure Orson Welles genius makes this one of the greatest of movies. Welles is drawn into a murder conspiracy only to be set up as the fall guy, which is what he refers to with the sarcastic comment \"big dummy that I am.\" Plot is so complex that I still don\\'t know whether the victim knew that his life was about to be lost. The shootout scene in the carnival hall of mirrors is one of the most amazing ever filmed. That scene alone is worth the price of admission. This is the only time that Rita Hayworth ever played a complex yet believable character. No one but Welles would have had the nerve to cut her hair and dye it brassy blond. No one should miss this picture.']\n",
            "\n",
            "labels:  [1 0 1]\n"
          ]
        }
      ],
      "source": [
        "BUFFER_SIZE = 10000\n",
        "BATCH_SIZE = 64\n",
        "\n",
        "train_dataset = train_dataset.shuffle(BUFFER_SIZE).batch(BATCH_SIZE).prefetch(tf.data.AUTOTUNE)\n",
        "test_dataset = test_dataset.batch(BATCH_SIZE).prefetch(tf.data.AUTOTUNE)\n",
        "\n",
        "for example, label in train_dataset.take(1):\n",
        "  print('texts: ', example.numpy()[:3])\n",
        "  print()\n",
        "  print('labels: ', label.numpy()[:3])"
      ]
    },
    {
      "cell_type": "code",
      "execution_count": null,
      "metadata": {
        "id": "9v9cGbV1pQ2s"
      },
      "outputs": [],
      "source": [
        "VOCAB_SIZE = 1000\n",
        "encoder = tf.keras.layers.TextVectorization(max_tokens=VOCAB_SIZE)\n",
        "encoder.adapt(train_dataset.map(lambda text, label: text))"
      ]
    },
    {
      "cell_type": "code",
      "execution_count": null,
      "metadata": {
        "colab": {
          "base_uri": "https://localhost:8080/"
        },
        "id": "WtTUHYCGpSqU",
        "outputId": "431af276-953d-4c16-ed39-acdb42064e4a"
      },
      "outputs": [
        {
          "output_type": "execute_result",
          "data": {
            "text/plain": [
              "array(['', '[UNK]', 'the', 'and', 'a', 'of', 'to', 'is', 'in', 'it', 'i',\n",
              "       'this', 'that', 'br', 'was', 'as', 'for', 'with', 'movie', 'but'],\n",
              "      dtype='<U14')"
            ]
          },
          "metadata": {},
          "execution_count": 7
        }
      ],
      "source": [
        "vocab = np.array(encoder.get_vocabulary())\n",
        "vocab[:20]"
      ]
    },
    {
      "cell_type": "code",
      "execution_count": null,
      "metadata": {
        "colab": {
          "base_uri": "https://localhost:8080/"
        },
        "id": "hlYzFkdNpV_2",
        "outputId": "6a9e2a88-8016-45e6-9f4f-c57e91b973d4"
      },
      "outputs": [
        {
          "output_type": "execute_result",
          "data": {
            "text/plain": [
              "array([[  1,   3,   1, ...,   0,   0,   0],\n",
              "       [ 11,   1, 220, ...,   0,   0,   0],\n",
              "       [  1,   1,   1, ...,   0,   0,   0]])"
            ]
          },
          "metadata": {},
          "execution_count": 8
        }
      ],
      "source": [
        "encoded_example = encoder(example)[:3].numpy()\n",
        "encoded_example"
      ]
    },
    {
      "cell_type": "code",
      "execution_count": null,
      "metadata": {
        "colab": {
          "base_uri": "https://localhost:8080/"
        },
        "id": "-n8E-9F_pZbj",
        "outputId": "5c632951-2667-4d7b-8732-ffde9ba41307"
      },
      "outputs": [
        {
          "output_type": "stream",
          "name": "stdout",
          "text": [
            "Original:  b'Moe and Larry are newly henpecked husbands, having married Shemp\\'s demanding sisters. At his music studio, Shemp learns he will inherit a fortune if he marries someone himself! <br /><br />\"Husbands Beware\" is a remake of 1947\\'s \"Brideless Groom,\" widely considered by many to be one of the best Stooge films with Shemp. The remake contains most of the footage from that film. The new scenes, shot May 17, 1955, include the storyline of Moe and Larry marrying Shemp\\'s sisters, along with their cooking of a turkey laced with turpentine! A few new scenes are tacked onto the end of the film as well(a double for Dee Green was used; if you blink, you will miss the double\\'s appearance.) <br /><br />\"Husbands Beware\" would have made for a good film with just the plot line of marrying the sisters. Budget considerations, coupled with fewer bookings for two-reel comedies, influenced the decision to use older footage.<br /><br />Although completely new films were still being made by the Stooges, most of their releases by 1955-56 were made up of older films with a few new scenes tossed in. \"Husbands Beware,\" while one of these hybrids, is watchable and entertaining; we get to see most of \"Brideless Groom\" again, and the new scenes are funny enough to get the viewer through the film. This film is one of the last Stooge comedies to feature new footage of Shemp, and it was released six weeks after his death.<br /><br />7 out of 10.'\n",
            "Round-trip:  [UNK] and [UNK] are [UNK] [UNK] [UNK] having [UNK] [UNK] [UNK] [UNK] at his music [UNK] [UNK] [UNK] he will [UNK] a [UNK] if he [UNK] someone himself br br [UNK] [UNK] is a remake of [UNK] [UNK] [UNK] [UNK] [UNK] by many to be one of the best [UNK] films with [UNK] the remake [UNK] most of the footage from that film the new scenes shot may [UNK] [UNK] [UNK] the storyline of [UNK] and [UNK] [UNK] [UNK] [UNK] along with their [UNK] of a [UNK] [UNK] with [UNK] a few new scenes are [UNK] [UNK] the end of the film as [UNK] [UNK] for [UNK] [UNK] was used if you [UNK] you will miss the [UNK] [UNK] br br [UNK] [UNK] would have made for a good film with just the plot line of [UNK] the [UNK] budget [UNK] [UNK] with [UNK] [UNK] for [UNK] [UNK] [UNK] the [UNK] to use older [UNK] br although completely new films were still being made by the [UNK] most of their [UNK] by [UNK] were made up of older films with a few new scenes [UNK] in [UNK] [UNK] while one of these [UNK] is [UNK] and entertaining we get to see most of [UNK] [UNK] again and the new scenes are funny enough to get the viewer through the film this film is one of the last [UNK] [UNK] to feature new footage of [UNK] and it was released [UNK] [UNK] after his [UNK] br [UNK] out of 10                                                                                                                                                                                                                                                                                                                                                                                                                        \n",
            "\n",
            "Original:  b'This \"screwy comedy\" seems very forced. Indeed, the actors TRY very hard to make a go of an essentially unfunny script. And, as a result it doesn\\'t really go anywhere. The idea of a woman finding out she was pregnant after getting a quickie divorce just isn\\'t all that funny. And then, when Cooper sneaks off with the baby because he doesn\\'t want it put up for adoption just seems terribly unfunny and it\\'s really pushing hard to turn this into a comedy. It\\'s really a shame, too, as the actors were more capable than the script and I found myself just bored by the whole mess. Considering that Cooper made so many GOOD comedies, I recommend you see them instead.'\n",
            "Round-trip:  this [UNK] comedy seems very forced indeed the actors try very hard to make a go of an [UNK] [UNK] script and as a result it doesnt really go [UNK] the idea of a woman [UNK] out she was [UNK] after getting a [UNK] [UNK] just isnt all that funny and then when [UNK] [UNK] off with the baby because he doesnt want it put up for [UNK] just seems [UNK] [UNK] and its really [UNK] hard to turn this into a comedy its really a shame too as the actors were more [UNK] than the script and i found myself just [UNK] by the whole mess [UNK] that [UNK] made so many good [UNK] i recommend you see them instead                                                                                                                                                                                                                                                                                                                                                                                                                                                                                                                                                        \n",
            "\n",
            "Original:  b'Pure Orson Welles genius makes this one of the greatest of movies. Welles is drawn into a murder conspiracy only to be set up as the fall guy, which is what he refers to with the sarcastic comment \"big dummy that I am.\" Plot is so complex that I still don\\'t know whether the victim knew that his life was about to be lost. The shootout scene in the carnival hall of mirrors is one of the most amazing ever filmed. That scene alone is worth the price of admission. This is the only time that Rita Hayworth ever played a complex yet believable character. No one but Welles would have had the nerve to cut her hair and dye it brassy blond. No one should miss this picture.'\n",
            "Round-trip:  [UNK] [UNK] [UNK] [UNK] makes this one of the greatest of movies [UNK] is [UNK] into a murder [UNK] only to be set up as the fall guy which is what he [UNK] to with the [UNK] comment big [UNK] that i am plot is so [UNK] that i still dont know whether the [UNK] knew that his life was about to be lost the [UNK] scene in the [UNK] [UNK] of [UNK] is one of the most amazing ever filmed that scene alone is worth the [UNK] of [UNK] this is the only time that [UNK] [UNK] ever played a [UNK] yet believable character no one but [UNK] would have had the [UNK] to cut her [UNK] and [UNK] it [UNK] [UNK] no one should miss this picture                                                                                                                                                                                                                                                                                                                                                                                                                                                                                                                                                \n",
            "\n"
          ]
        }
      ],
      "source": [
        "for n in range(3):\n",
        "  print(\"Original: \", example[n].numpy())\n",
        "  print(\"Round-trip: \", \" \".join(vocab[encoded_example[n]]))\n",
        "  print()"
      ]
    },
    {
      "cell_type": "code",
      "execution_count": null,
      "metadata": {
        "id": "LtDjdbnapcpM"
      },
      "outputs": [],
      "source": [
        "model = tf.keras.Sequential([\n",
        "    encoder,\n",
        "    tf.keras.layers.Embedding(\n",
        "        input_dim=len(encoder.get_vocabulary()),\n",
        "        output_dim=64,\n",
        "        # Use masking to handle the variable sequence lengths\n",
        "        mask_zero=True),\n",
        "    tf.keras.layers.Bidirectional(tf.keras.layers.LSTM(64)),\n",
        "    tf.keras.layers.Dense(64, activation='relu'),\n",
        "    tf.keras.layers.Dense(1)\n",
        "])"
      ]
    },
    {
      "cell_type": "code",
      "execution_count": null,
      "metadata": {
        "colab": {
          "base_uri": "https://localhost:8080/"
        },
        "id": "ADRApcP2pdtB",
        "outputId": "968cca5a-b82a-436d-e176-9a6aebba1cee"
      },
      "outputs": [
        {
          "output_type": "stream",
          "name": "stdout",
          "text": [
            "[False, True, True, True, True]\n"
          ]
        }
      ],
      "source": [
        "print([layer.supports_masking for layer in model.layers])"
      ]
    },
    {
      "cell_type": "code",
      "execution_count": null,
      "metadata": {
        "colab": {
          "base_uri": "https://localhost:8080/"
        },
        "id": "W_yBBhFUpm1a",
        "outputId": "23a3e933-4f8a-4177-cd61-feeb43d12fd5"
      },
      "outputs": [
        {
          "output_type": "stream",
          "name": "stdout",
          "text": [
            "1/1 [==============================] - 8s 8s/step\n",
            "[0.0337405]\n"
          ]
        }
      ],
      "source": [
        "# predict on a sample text without padding.\n",
        "\n",
        "sample_text = ('The movie was cool. The animation and the graphics '\n",
        "               'were out of this world. I would recommend this movie.')\n",
        "predictions = model.predict(np.array([sample_text]))\n",
        "print(predictions[0])"
      ]
    },
    {
      "cell_type": "code",
      "execution_count": null,
      "metadata": {
        "colab": {
          "base_uri": "https://localhost:8080/"
        },
        "id": "fKr2Y83xprCZ",
        "outputId": "e1935900-e7a2-486b-d66c-4c9529296f97"
      },
      "outputs": [
        {
          "output_type": "stream",
          "name": "stdout",
          "text": [
            "1/1 [==============================] - 0s 59ms/step\n",
            "[0.0337405]\n"
          ]
        }
      ],
      "source": [
        "# predict on a sample text with padding\n",
        "\n",
        "padding = \"the \" * 2000\n",
        "predictions = model.predict(np.array([sample_text, padding]))\n",
        "print(predictions[0])"
      ]
    },
    {
      "cell_type": "code",
      "execution_count": null,
      "metadata": {
        "id": "J5e6F7lapvW2"
      },
      "outputs": [],
      "source": [
        "model.compile(loss=tf.keras.losses.BinaryCrossentropy(from_logits=True),\n",
        "              optimizer=tf.keras.optimizers.Adam(1e-4),\n",
        "              metrics=['accuracy'])"
      ]
    },
    {
      "cell_type": "code",
      "execution_count": null,
      "metadata": {
        "colab": {
          "base_uri": "https://localhost:8080/"
        },
        "id": "dn2tEXx-pxYP",
        "outputId": "d6479022-4fcd-4484-9ae7-12a45672dfc0"
      },
      "outputs": [
        {
          "output_type": "stream",
          "name": "stdout",
          "text": [
            "Epoch 1/10\n",
            "391/391 [==============================] - 51s 104ms/step - loss: 0.6571 - accuracy: 0.5504 - val_loss: 0.5133 - val_accuracy: 0.7026\n",
            "Epoch 2/10\n",
            "391/391 [==============================] - 25s 64ms/step - loss: 0.4073 - accuracy: 0.8129 - val_loss: 0.4108 - val_accuracy: 0.7776\n",
            "Epoch 3/10\n",
            "391/391 [==============================] - 24s 60ms/step - loss: 0.3416 - accuracy: 0.8504 - val_loss: 0.3421 - val_accuracy: 0.8505\n",
            "Epoch 4/10\n",
            "391/391 [==============================] - 24s 60ms/step - loss: 0.3201 - accuracy: 0.8608 - val_loss: 0.3297 - val_accuracy: 0.8557\n",
            "Epoch 5/10\n",
            "391/391 [==============================] - 24s 60ms/step - loss: 0.3135 - accuracy: 0.8639 - val_loss: 0.3267 - val_accuracy: 0.8583\n",
            "Epoch 6/10\n",
            "391/391 [==============================] - 24s 60ms/step - loss: 0.3058 - accuracy: 0.8679 - val_loss: 0.3227 - val_accuracy: 0.8495\n",
            "Epoch 7/10\n",
            "391/391 [==============================] - 23s 59ms/step - loss: 0.3029 - accuracy: 0.8690 - val_loss: 0.3172 - val_accuracy: 0.8557\n",
            "Epoch 8/10\n",
            "391/391 [==============================] - 23s 59ms/step - loss: 0.3003 - accuracy: 0.8702 - val_loss: 0.3233 - val_accuracy: 0.8542\n",
            "Epoch 9/10\n",
            "391/391 [==============================] - 24s 61ms/step - loss: 0.2972 - accuracy: 0.8729 - val_loss: 0.3286 - val_accuracy: 0.8568\n",
            "Epoch 10/10\n",
            "391/391 [==============================] - 24s 60ms/step - loss: 0.2964 - accuracy: 0.8718 - val_loss: 0.3156 - val_accuracy: 0.8547\n"
          ]
        }
      ],
      "source": [
        "history = model.fit(train_dataset, epochs=10, validation_data=test_dataset, validation_steps=30)"
      ]
    },
    {
      "cell_type": "code",
      "execution_count": null,
      "metadata": {
        "id": "r7YNgXXZpzw2",
        "colab": {
          "base_uri": "https://localhost:8080/"
        },
        "outputId": "05066a1c-02b3-41df-a947-a6da1edf3d70"
      },
      "outputs": [
        {
          "output_type": "stream",
          "name": "stdout",
          "text": [
            "391/391 [==============================] - 11s 28ms/step - loss: 0.3140 - accuracy: 0.8595\n",
            "Test Loss: 0.3139803409576416\n",
            "Test Accuracy: 0.8594800233840942\n"
          ]
        }
      ],
      "source": [
        "test_loss, test_acc = model.evaluate(test_dataset)\n",
        "\n",
        "print('Test Loss:', test_loss)\n",
        "print('Test Accuracy:', test_acc)"
      ]
    },
    {
      "cell_type": "code",
      "execution_count": null,
      "metadata": {
        "id": "9XjiNuYGp6nS",
        "colab": {
          "base_uri": "https://localhost:8080/",
          "height": 373
        },
        "outputId": "29094368-8728-42ae-ee7d-5f04034156b8"
      },
      "outputs": [
        {
          "output_type": "execute_result",
          "data": {
            "text/plain": [
              "(0.0, 0.6751816883683205)"
            ]
          },
          "metadata": {},
          "execution_count": 17
        },
        {
          "output_type": "display_data",
          "data": {
            "text/plain": [
              "<Figure size 1600x800 with 2 Axes>"
            ],
            "image/png": "[encoded data removed]"
          },
          "metadata": {}
        }
      ],
      "source": [
        "plt.figure(figsize=(16, 8))\n",
        "plt.subplot(1, 2, 1)\n",
        "plot_graphs(history, 'accuracy')\n",
        "plt.ylim(None, 1)\n",
        "plt.subplot(1, 2, 2)\n",
        "plot_graphs(history, 'loss')\n",
        "plt.ylim(0, None)"
      ]
    },
    {
      "cell_type": "code",
      "execution_count": null,
      "metadata": {
        "id": "RexUXfTYp8wN",
        "colab": {
          "base_uri": "https://localhost:8080/"
        },
        "outputId": "dff83e1c-9546-47a5-f5e0-ee0155d0a11c"
      },
      "outputs": [
        {
          "output_type": "stream",
          "name": "stdout",
          "text": [
            "1/1 [==============================] - 2s 2s/step\n"
          ]
        }
      ],
      "source": [
        "sample_text = ('The movie was cool. The animation and the graphics '\n",
        "'were out of this world. I would recommend this movie.')\n",
        "predictions = model.predict(np.array([sample_text]))"
      ]
    },
    {
      "cell_type": "code",
      "execution_count": null,
      "metadata": {
        "id": "-7b3s2fKqAYf"
      },
      "outputs": [],
      "source": [
        "model = tf.keras.Sequential([encoder, tf.keras.layers.Embedding(\n",
        "  len(encoder.get_vocabulary()), 64, mask_zero=True),\n",
        "  tf.keras.layers.Bidirectional(tf.keras.layers.LSTM(64, return_sequences=True)),\n",
        "  tf.keras.layers.Bidirectional(tf.keras.layers.LSTM(32)),\n",
        "  tf.keras.layers.Dense(64, activation='relu'),\n",
        "  tf.keras.layers.Dropout(0.5),\n",
        "  tf.keras.layers.Dense(1)\n",
        "])"
      ]
    },
    {
      "cell_type": "code",
      "execution_count": null,
      "metadata": {
        "id": "71zWyNckqR6f"
      },
      "outputs": [],
      "source": [
        "model.compile(loss=tf.keras.losses.BinaryCrossentropy(from_logits=True), optimizer=tf.keras.optimizers.Adam(1e-4), metrics=['accuracy'])"
      ]
    },
    {
      "cell_type": "code",
      "execution_count": null,
      "metadata": {
        "id": "sfn8TOy6qTxz",
        "colab": {
          "base_uri": "https://localhost:8080/"
        },
        "outputId": "568658f3-460f-4c21-caac-e8716ac7f736"
      },
      "outputs": [
        {
          "output_type": "stream",
          "name": "stdout",
          "text": [
            "Epoch 1/10\n",
            "391/391 [==============================] - 76s 148ms/step - loss: 0.5930 - accuracy: 0.6260 - val_loss: 0.4161 - val_accuracy: 0.7979\n",
            "Epoch 2/10\n",
            "391/391 [==============================] - 45s 114ms/step - loss: 0.3710 - accuracy: 0.8345 - val_loss: 0.3533 - val_accuracy: 0.8292\n",
            "Epoch 3/10\n",
            "391/391 [==============================] - 46s 118ms/step - loss: 0.3303 - accuracy: 0.8592 - val_loss: 0.3280 - val_accuracy: 0.8568\n",
            "Epoch 4/10\n",
            "391/391 [==============================] - 45s 116ms/step - loss: 0.3200 - accuracy: 0.8618 - val_loss: 0.3238 - val_accuracy: 0.8599\n",
            "Epoch 5/10\n",
            "391/391 [==============================] - 45s 114ms/step - loss: 0.3104 - accuracy: 0.8652 - val_loss: 0.3224 - val_accuracy: 0.8589\n",
            "Epoch 6/10\n",
            "391/391 [==============================] - 44s 112ms/step - loss: 0.3065 - accuracy: 0.8693 - val_loss: 0.3248 - val_accuracy: 0.8641\n",
            "Epoch 7/10\n",
            "391/391 [==============================] - 44s 111ms/step - loss: 0.3035 - accuracy: 0.8689 - val_loss: 0.3216 - val_accuracy: 0.8500\n",
            "Epoch 8/10\n",
            "391/391 [==============================] - 45s 114ms/step - loss: 0.3010 - accuracy: 0.8696 - val_loss: 0.3387 - val_accuracy: 0.8594\n",
            "Epoch 9/10\n",
            "391/391 [==============================] - 44s 113ms/step - loss: 0.3001 - accuracy: 0.8709 - val_loss: 0.3177 - val_accuracy: 0.8594\n",
            "Epoch 10/10\n",
            "391/391 [==============================] - 45s 115ms/step - loss: 0.2962 - accuracy: 0.8704 - val_loss: 0.3321 - val_accuracy: 0.8578\n"
          ]
        }
      ],
      "source": [
        "history = model.fit(train_dataset, epochs=10, validation_data=test_dataset, validation_steps=30)"
      ]
    },
    {
      "cell_type": "code",
      "execution_count": null,
      "metadata": {
        "id": "43Whkv_1qVMu",
        "colab": {
          "base_uri": "https://localhost:8080/"
        },
        "outputId": "0fbf3384-ca35-4756-93ae-f87bd39f5b28"
      },
      "outputs": [
        {
          "output_type": "stream",
          "name": "stdout",
          "text": [
            "391/391 [==============================] - 18s 46ms/step - loss: 0.3280 - accuracy: 0.8638\n",
            "Test Loss: 0.32803088426589966\n",
            "Test Accuracy: 0.8637599945068359\n"
          ]
        }
      ],
      "source": [
        "test_loss, test_acc = model.evaluate(test_dataset)\n",
        "\n",
        "print('Test Loss:', test_loss)\n",
        "print('Test Accuracy:', test_acc)"
      ]
    },
    {
      "cell_type": "code",
      "execution_count": null,
      "metadata": {
        "id": "5qhdLiWmqYXn",
        "colab": {
          "base_uri": "https://localhost:8080/"
        },
        "outputId": "6c942d8e-9ee2-4171-fdac-c6f42fab31df"
      },
      "outputs": [
        {
          "output_type": "stream",
          "name": "stdout",
          "text": [
            "1/1 [==============================] - 5s 5s/step\n",
            "[[-1.6673477]]\n"
          ]
        }
      ],
      "source": [
        "# predict on a sample text without padding.\n",
        "\n",
        "sample_text = ('The movie was not good. The animation and the graphics '\n",
        "'were terrible. I would not recommend this movie.')\n",
        "predictions = model.predict(np.array([sample_text]))\n",
        "print(predictions)"
      ]
    },
    {
      "cell_type": "code",
      "execution_count": null,
      "metadata": {
        "id": "kLVijiWgqcgE",
        "colab": {
          "base_uri": "https://localhost:8080/",
          "height": 274
        },
        "outputId": "9d9e811f-9df3-40dd-dd60-f57104f4593e"
      },
      "outputs": [
        {
          "output_type": "display_data",
          "data": {
            "text/plain": [
              "<Figure size 1600x600 with 2 Axes>"
            ],
            "image/png": "[encoded data removed]"
          },
          "metadata": {}
        }
      ],
      "source": [
        "plt.figure(figsize=(16, 6))\n",
        "plt.subplot(1, 2, 1)\n",
        "plot_graphs(history, 'accuracy')\n",
        "plt.subplot(1, 2, 2)\n",
        "plot_graphs(history, 'loss')"
      ]
    },
    {
      "cell_type": "markdown",
      "metadata": {
        "id": "3wBX0nFWsEKW"
      },
      "source": [
        "# Praktikum 2"
      ]
    },
    {
      "cell_type": "code",
      "execution_count": null,
      "metadata": {
        "id": "BLA5DXn_qccX"
      },
      "outputs": [],
      "source": [
        "import tensorflow as tf\n",
        "import numpy as np\n",
        "import os\n",
        "import time"
      ]
    },
    {
      "cell_type": "code",
      "execution_count": null,
      "metadata": {
        "id": "clbnLzGYExak",
        "colab": {
          "base_uri": "https://localhost:8080/"
        },
        "outputId": "052bc623-dbf8-46bc-da14-2ebf8012749f"
      },
      "outputs": [
        {
          "output_type": "stream",
          "name": "stdout",
          "text": [
            "Downloading data from https://storage.googleapis.com/download.tensorflow.org/data/shakespeare.txt\n",
            "1115394/1115394 [==============================] - 0s 0us/step\n"
          ]
        }
      ],
      "source": [
        "path_to_file  = tf.keras.utils.get_file('shakespeare.txt', 'https://storage.googleapis.com/download.tensorflow.org/data/shakespeare.txt')"
      ]
    },
    {
      "cell_type": "code",
      "execution_count": null,
      "metadata": {
        "id": "rOV15ESiE0g3",
        "colab": {
          "base_uri": "https://localhost:8080/"
        },
        "outputId": "9594dc46-6288-4bfd-ff34-f3319c7862df"
      },
      "outputs": [
        {
          "output_type": "stream",
          "name": "stdout",
          "text": [
            "Length of text: 1115394 characters\n"
          ]
        }
      ],
      "source": [
        "# Read, then decode for py2 compat.\n",
        "text = open(path_to_file, 'rb').read().decode(encoding='utf-8')\n",
        "# length of text is the number of characters in it\n",
        "print(f'Length of text: {len(text)} characters')"
      ]
    },
    {
      "cell_type": "code",
      "execution_count": null,
      "metadata": {
        "id": "JD3U0fJkE5L5",
        "colab": {
          "base_uri": "https://localhost:8080/"
        },
        "outputId": "81506d5b-9ad9-4195-b44e-07d00e3fc002"
      },
      "outputs": [
        {
          "output_type": "stream",
          "name": "stdout",
          "text": [
            "First Citizen:\n",
            "Before we proceed any further, hear me speak.\n",
            "\n",
            "All:\n",
            "Speak, speak.\n",
            "\n",
            "First Citizen:\n",
            "You are all resolved rather to die than to famish?\n",
            "\n",
            "All:\n",
            "Resolved. resolved.\n",
            "\n",
            "First Citizen:\n",
            "First, you know Caius Marcius is chief enemy to the people.\n",
            "\n"
          ]
        }
      ],
      "source": [
        "# Take a look at the first 250 characters in text\n",
        "print(text[:250])"
      ]
    },
    {
      "cell_type": "code",
      "execution_count": null,
      "metadata": {
        "id": "yC0ScBa-E8pc",
        "colab": {
          "base_uri": "https://localhost:8080/"
        },
        "outputId": "dd1b50a8-3129-4f93-95f8-019b5c7f51c7"
      },
      "outputs": [
        {
          "output_type": "stream",
          "name": "stdout",
          "text": [
            "65 unique characters\n"
          ]
        }
      ],
      "source": [
        "# The unique characters in the file\n",
        "vocab = sorted(set(text))\n",
        "print(f'{len(vocab)} unique characters')"
      ]
    },
    {
      "cell_type": "code",
      "execution_count": null,
      "metadata": {
        "id": "nF-NtLAIFB23",
        "colab": {
          "base_uri": "https://localhost:8080/"
        },
        "outputId": "c882640c-d6f2-4ac2-ef34-fc249de3bdd2"
      },
      "outputs": [
        {
          "output_type": "execute_result",
          "data": {
            "text/plain": [
              "<tf.RaggedTensor [[b'a', b'b', b'c', b'd', b'e', b'f', b'g'], [b'x', b'y', b'z']]>"
            ]
          },
          "metadata": {},
          "execution_count": 30
        }
      ],
      "source": [
        "example_texts = ['abcdefg', 'xyz']\n",
        "chars = tf.strings.unicode_split(example_texts, input_encoding='UTF-8')\n",
        "chars"
      ]
    },
    {
      "cell_type": "code",
      "execution_count": null,
      "metadata": {
        "id": "f30TRdUgFF0K"
      },
      "outputs": [],
      "source": [
        "ids_from_chars = tf.keras.layers.StringLookup(vocabulary=list(vocab), mask_token=None)"
      ]
    },
    {
      "cell_type": "code",
      "execution_count": null,
      "metadata": {
        "id": "wGl69u_kFNwj",
        "colab": {
          "base_uri": "https://localhost:8080/"
        },
        "outputId": "f5c25cb8-e68d-4790-df40-f9b8313ed638"
      },
      "outputs": [
        {
          "output_type": "execute_result",
          "data": {
            "text/plain": [
              "<tf.RaggedTensor [[40, 41, 42, 43, 44, 45, 46], [63, 64, 65]]>"
            ]
          },
          "metadata": {},
          "execution_count": 32
        }
      ],
      "source": [
        "ids = ids_from_chars(chars)\n",
        "ids"
      ]
    },
    {
      "cell_type": "code",
      "execution_count": null,
      "metadata": {
        "id": "Xjz1731GFV50"
      },
      "outputs": [],
      "source": [
        "chars_from_ids = tf.keras.layers.StringLookup(\n",
        "    vocabulary=ids_from_chars.get_vocabulary(), invert=True, mask_token=None)"
      ]
    },
    {
      "cell_type": "code",
      "execution_count": null,
      "metadata": {
        "id": "j9W3uM32Fak-",
        "colab": {
          "base_uri": "https://localhost:8080/"
        },
        "outputId": "d3f02a3f-ba19-4270-af70-fa7c0d919f40"
      },
      "outputs": [
        {
          "output_type": "execute_result",
          "data": {
            "text/plain": [
              "<tf.RaggedTensor [[b'a', b'b', b'c', b'd', b'e', b'f', b'g'], [b'x', b'y', b'z']]>"
            ]
          },
          "metadata": {},
          "execution_count": 34
        }
      ],
      "source": [
        "chars = chars_from_ids(ids)\n",
        "chars"
      ]
    },
    {
      "cell_type": "code",
      "execution_count": null,
      "metadata": {
        "id": "dNyFsURdFfZc",
        "colab": {
          "base_uri": "https://localhost:8080/"
        },
        "outputId": "74b57ed0-f015-4b3a-aed6-7837218cfbb7"
      },
      "outputs": [
        {
          "output_type": "execute_result",
          "data": {
            "text/plain": [
              "array([b'abcdefg', b'xyz'], dtype=object)"
            ]
          },
          "metadata": {},
          "execution_count": 35
        }
      ],
      "source": [
        "tf.strings.reduce_join(chars, axis=-1).numpy()"
      ]
    },
    {
      "cell_type": "code",
      "execution_count": null,
      "metadata": {
        "id": "pv5dZ6tdFhv6"
      },
      "outputs": [],
      "source": [
        "def text_from_ids(ids):\n",
        "    return tf.strings.reduce_join(chars_from_ids(ids), axis=-1)"
      ]
    },
    {
      "cell_type": "code",
      "execution_count": null,
      "metadata": {
        "id": "VfBbMmqvFmcg",
        "colab": {
          "base_uri": "https://localhost:8080/"
        },
        "outputId": "9a99ae7f-40e6-43e2-ce7f-b63e1e691a28"
      },
      "outputs": [
        {
          "output_type": "execute_result",
          "data": {
            "text/plain": [
              "<tf.Tensor: shape=(1115394,), dtype=int64, numpy=array([19, 48, 57, ..., 46,  9,  1])>"
            ]
          },
          "metadata": {},
          "execution_count": 37
        }
      ],
      "source": [
        "all_ids = ids_from_chars(tf.strings.unicode_split(text, 'UTF-8'))\n",
        "all_ids"
      ]
    },
    {
      "cell_type": "code",
      "execution_count": null,
      "metadata": {
        "id": "7bIvN2lgFr2h"
      },
      "outputs": [],
      "source": [
        "ids_dataset = tf.data.Dataset.from_tensor_slices(all_ids)"
      ]
    },
    {
      "cell_type": "code",
      "execution_count": null,
      "metadata": {
        "id": "jN6NJ9KBFtl7",
        "colab": {
          "base_uri": "https://localhost:8080/"
        },
        "outputId": "28915f07-cd39-4806-e40c-a3a4d841b732"
      },
      "outputs": [
        {
          "output_type": "stream",
          "name": "stdout",
          "text": [
            "F\n",
            "i\n",
            "r\n",
            "s\n",
            "t\n",
            " \n",
            "C\n",
            "i\n",
            "t\n",
            "i\n"
          ]
        }
      ],
      "source": [
        "for ids in ids_dataset.take(10):\n",
        "    print(chars_from_ids(ids).numpy().decode('utf-8'))"
      ]
    },
    {
      "cell_type": "code",
      "execution_count": null,
      "metadata": {
        "id": "slPzSt3GFuT8"
      },
      "outputs": [],
      "source": [
        "seq_length = 100"
      ]
    },
    {
      "cell_type": "code",
      "execution_count": null,
      "metadata": {
        "id": "hU15oRQ6FwhV",
        "colab": {
          "base_uri": "https://localhost:8080/"
        },
        "outputId": "6119f90e-de19-4c18-fe4d-17e1f555a1a8"
      },
      "outputs": [
        {
          "output_type": "stream",
          "name": "stdout",
          "text": [
            "tf.Tensor(\n",
            "[b'F' b'i' b'r' b's' b't' b' ' b'C' b'i' b't' b'i' b'z' b'e' b'n' b':'\n",
            " b'\\n' b'B' b'e' b'f' b'o' b'r' b'e' b' ' b'w' b'e' b' ' b'p' b'r' b'o'\n",
            " b'c' b'e' b'e' b'd' b' ' b'a' b'n' b'y' b' ' b'f' b'u' b'r' b't' b'h'\n",
            " b'e' b'r' b',' b' ' b'h' b'e' b'a' b'r' b' ' b'm' b'e' b' ' b's' b'p'\n",
            " b'e' b'a' b'k' b'.' b'\\n' b'\\n' b'A' b'l' b'l' b':' b'\\n' b'S' b'p' b'e'\n",
            " b'a' b'k' b',' b' ' b's' b'p' b'e' b'a' b'k' b'.' b'\\n' b'\\n' b'F' b'i'\n",
            " b'r' b's' b't' b' ' b'C' b'i' b't' b'i' b'z' b'e' b'n' b':' b'\\n' b'Y'\n",
            " b'o' b'u' b' '], shape=(101,), dtype=string)\n"
          ]
        }
      ],
      "source": [
        "sequences = ids_dataset.batch(seq_length+1, drop_remainder=True)\n",
        "\n",
        "for seq in sequences.take(1):\n",
        "  print(chars_from_ids(seq))"
      ]
    },
    {
      "cell_type": "code",
      "execution_count": null,
      "metadata": {
        "id": "G5mzKfZUFyQm",
        "colab": {
          "base_uri": "https://localhost:8080/"
        },
        "outputId": "f539efcf-0a9e-4587-f732-e4bcc4a034c0"
      },
      "outputs": [
        {
          "output_type": "stream",
          "name": "stdout",
          "text": [
            "b'First Citizen:\\nBefore we proceed any further, hear me speak.\\n\\nAll:\\nSpeak, speak.\\n\\nFirst Citizen:\\nYou '\n",
            "b'are all resolved rather to die than to famish?\\n\\nAll:\\nResolved. resolved.\\n\\nFirst Citizen:\\nFirst, you k'\n",
            "b\"now Caius Marcius is chief enemy to the people.\\n\\nAll:\\nWe know't, we know't.\\n\\nFirst Citizen:\\nLet us ki\"\n",
            "b\"ll him, and we'll have corn at our own price.\\nIs't a verdict?\\n\\nAll:\\nNo more talking on't; let it be d\"\n",
            "b'one: away, away!\\n\\nSecond Citizen:\\nOne word, good citizens.\\n\\nFirst Citizen:\\nWe are accounted poor citi'\n"
          ]
        }
      ],
      "source": [
        "for seq in sequences.take(5):\n",
        "    print(text_from_ids(seq).numpy())"
      ]
    },
    {
      "cell_type": "code",
      "execution_count": null,
      "metadata": {
        "id": "h74EOxGoF0EK"
      },
      "outputs": [],
      "source": [
        "def split_input_target(sequence):\n",
        "    input_text = sequence[:-1]\n",
        "    target_text = sequence[1:]\n",
        "    return input_text, target_text"
      ]
    },
    {
      "cell_type": "code",
      "execution_count": null,
      "metadata": {
        "id": "-EWfd7_fF8bO",
        "colab": {
          "base_uri": "https://localhost:8080/"
        },
        "outputId": "3bd09977-95a6-4e32-f4df-ee8090e60fc7"
      },
      "outputs": [
        {
          "output_type": "execute_result",
          "data": {
            "text/plain": [
              "(['T', 'e', 'n', 's', 'o', 'r', 'f', 'l', 'o'],\n",
              " ['e', 'n', 's', 'o', 'r', 'f', 'l', 'o', 'w'])"
            ]
          },
          "metadata": {},
          "execution_count": 44
        }
      ],
      "source": [
        "split_input_target(list(\"Tensorflow\"))"
      ]
    },
    {
      "cell_type": "code",
      "execution_count": null,
      "metadata": {
        "id": "5ZgOEMHAF_vK"
      },
      "outputs": [],
      "source": [
        "dataset = sequences.map(split_input_target)"
      ]
    },
    {
      "cell_type": "code",
      "execution_count": null,
      "metadata": {
        "id": "1crsXX7HGBUA",
        "colab": {
          "base_uri": "https://localhost:8080/"
        },
        "outputId": "cc003303-0d80-422a-fe01-c903141438fb"
      },
      "outputs": [
        {
          "output_type": "stream",
          "name": "stdout",
          "text": [
            "Input : b'First Citizen:\\nBefore we proceed any further, hear me speak.\\n\\nAll:\\nSpeak, speak.\\n\\nFirst Citizen:\\nYou'\n",
            "Target: b'irst Citizen:\\nBefore we proceed any further, hear me speak.\\n\\nAll:\\nSpeak, speak.\\n\\nFirst Citizen:\\nYou '\n"
          ]
        }
      ],
      "source": [
        "for input_example, target_example in dataset.take(1):\n",
        "    print(\"Input :\", text_from_ids(input_example).numpy())\n",
        "    print(\"Target:\", text_from_ids(target_example).numpy())"
      ]
    },
    {
      "cell_type": "code",
      "execution_count": null,
      "metadata": {
        "id": "rtMQOIbBGCEU",
        "colab": {
          "base_uri": "https://localhost:8080/"
        },
        "outputId": "2ae352fc-da7f-47ef-d338-498acb227588"
      },
      "outputs": [
        {
          "output_type": "execute_result",
          "data": {
            "text/plain": [
              "<_PrefetchDataset element_spec=(TensorSpec(shape=(64, 100), dtype=tf.int64, name=None), TensorSpec(shape=(64, 100), dtype=tf.int64, name=None))>"
            ]
          },
          "metadata": {},
          "execution_count": 47
        }
      ],
      "source": [
        "# Batch size\n",
        "BATCH_SIZE = 64\n",
        "\n",
        "# Buffer size to shuffle the dataset\n",
        "# (TF data is designed to work with possibly infinite sequences,\n",
        "# so it doesn't attempt to shuffle the entire sequence in memory. Instead,\n",
        "# it maintains a buffer in which it shuffles elements).\n",
        "BUFFER_SIZE = 10000\n",
        "\n",
        "dataset = (\n",
        "    dataset\n",
        "    .shuffle(BUFFER_SIZE)\n",
        "    .batch(BATCH_SIZE, drop_remainder=True)\n",
        "    .prefetch(tf.data.experimental.AUTOTUNE))\n",
        "\n",
        "dataset"
      ]
    },
    {
      "cell_type": "code",
      "execution_count": null,
      "metadata": {
        "id": "DweopvWVGEGg"
      },
      "outputs": [],
      "source": [
        "# Length of the vocabulary in StringLookup Layer\n",
        "vocab_size = len(ids_from_chars.get_vocabulary())\n",
        "\n",
        "# The embedding dimension\n",
        "embedding_dim = 256\n",
        "\n",
        "# Number of RNN units\n",
        "rnn_units = 1024"
      ]
    },
    {
      "cell_type": "code",
      "execution_count": null,
      "metadata": {
        "id": "uMPXpoJwGHQ6"
      },
      "outputs": [],
      "source": [
        "class MyModel(tf.keras.Model):\n",
        "  def __init__(self, vocab_size, embedding_dim, rnn_units):\n",
        "    super().__init__(self)\n",
        "    self.embedding = tf.keras.layers.Embedding(vocab_size, embedding_dim)\n",
        "    self.gru = tf.keras.layers.GRU(rnn_units,\n",
        "                                   return_sequences=True,\n",
        "                                   return_state=True)\n",
        "    self.dense = tf.keras.layers.Dense(vocab_size)\n",
        "\n",
        "  def call(self, inputs, states=None, return_state=False, training=False):\n",
        "    x = inputs\n",
        "    x = self.embedding(x, training=training)\n",
        "    if states is None:\n",
        "      states = self.gru.get_initial_state(x)\n",
        "    x, states = self.gru(x, initial_state=states, training=training)\n",
        "    x = self.dense(x, training=training)\n",
        "\n",
        "    if return_state:\n",
        "      return x, states\n",
        "    else:\n",
        "      return x"
      ]
    },
    {
      "cell_type": "code",
      "execution_count": null,
      "metadata": {
        "id": "ZoK5VdYQGIJ2"
      },
      "outputs": [],
      "source": [
        "model = MyModel(\n",
        "    vocab_size=vocab_size,\n",
        "    embedding_dim=embedding_dim,\n",
        "    rnn_units=rnn_units)"
      ]
    },
    {
      "cell_type": "code",
      "execution_count": null,
      "metadata": {
        "id": "ZeAwiv5IGKOo",
        "colab": {
          "base_uri": "https://localhost:8080/"
        },
        "outputId": "1c4cd505-6025-4e27-fc44-e420b851fa0c"
      },
      "outputs": [
        {
          "output_type": "stream",
          "name": "stdout",
          "text": [
            "(64, 100, 66) # (batch_size, sequence_length, vocab_size)\n"
          ]
        }
      ],
      "source": [
        "for input_example_batch, target_example_batch in dataset.take(1):\n",
        "    example_batch_predictions = model(input_example_batch)\n",
        "    print(example_batch_predictions.shape, \"# (batch_size, sequence_length, vocab_size)\")"
      ]
    },
    {
      "cell_type": "code",
      "execution_count": null,
      "metadata": {
        "id": "E2_12swuGMX0",
        "colab": {
          "base_uri": "https://localhost:8080/"
        },
        "outputId": "ad843db2-eb1d-425d-baf3-7e16049a5d14"
      },
      "outputs": [
        {
          "output_type": "stream",
          "name": "stdout",
          "text": [
            "Model: \"my_model\"\n",
            "_________________________________________________________________\n",
            " Layer (type)                Output Shape              Param #   \n",
            "=================================================================\n",
            " embedding_2 (Embedding)     multiple                  16896     \n",
            "                                                                 \n",
            " gru (GRU)                   multiple                  3938304   \n",
            "                                                                 \n",
            " dense_4 (Dense)             multiple                  67650     \n",
            "                                                                 \n",
            "=================================================================\n",
            "Total params: 4022850 (15.35 MB)\n",
            "Trainable params: 4022850 (15.35 MB)\n",
            "Non-trainable params: 0 (0.00 Byte)\n",
            "_________________________________________________________________\n"
          ]
        }
      ],
      "source": [
        "model.summary()"
      ]
    },
    {
      "cell_type": "code",
      "execution_count": null,
      "metadata": {
        "id": "ud9OB_9wGPIB"
      },
      "outputs": [],
      "source": [
        "sampled_indices = tf.random.categorical(example_batch_predictions[0], num_samples=1)\n",
        "sampled_indices = tf.squeeze(sampled_indices, axis=-1).numpy()"
      ]
    },
    {
      "cell_type": "code",
      "execution_count": null,
      "metadata": {
        "id": "du0WsAogGQEl",
        "colab": {
          "base_uri": "https://localhost:8080/"
        },
        "outputId": "5afbae8c-c9cc-4d9c-d367-4de88592b29e"
      },
      "outputs": [
        {
          "output_type": "execute_result",
          "data": {
            "text/plain": [
              "array([ 2, 56, 18, 53, 61, 17, 17, 32, 35, 49, 40, 54,  1, 19, 55, 19, 26,\n",
              "       28, 34,  0, 32, 62,  7,  0, 65, 33,  8, 27, 53, 65, 60, 14,  5, 43,\n",
              "       25, 25, 65, 61, 53, 45, 43, 53, 43, 54, 64,  1, 57, 59, 23, 22,  5,\n",
              "       33,  6, 41, 30,  5, 18, 52,  4, 10,  9, 14, 50, 48,  2, 10, 47, 29,\n",
              "       58, 42, 43, 12, 55, 27, 46, 49, 60, 29, 22, 39, 26,  9, 55, 22, 39,\n",
              "       49, 26, 48, 61, 52, 45, 46, 65, 31, 35, 64, 18,  8, 52, 65])"
            ]
          },
          "metadata": {},
          "execution_count": 54
        }
      ],
      "source": [
        "sampled_indices"
      ]
    },
    {
      "cell_type": "code",
      "execution_count": null,
      "metadata": {
        "id": "YijOWF8aGSHU",
        "colab": {
          "base_uri": "https://localhost:8080/"
        },
        "outputId": "fbc2028b-0388-4491-a6cb-94aeac7808da"
      },
      "outputs": [
        {
          "output_type": "stream",
          "name": "stdout",
          "text": [
            "Input:\n",
            " b\"nce.\\n\\nSecond Senator:\\nYou'll see your Rome embraced with fire before\\nYou'll speak with Coriolanus.\\n\\n\"\n",
            "\n",
            "Next Char Predictions:\n",
            " b\" qEnvDDSVjao\\nFpFMOU[UNK]Sw,[UNK]zT-NnzuA&dLLzvnfdndoy\\nrtJI&T'bQ&Em$3.Aki 3hPscd;pNgjuPIZM.pIZjMivmfgzRVyE-mz\"\n"
          ]
        }
      ],
      "source": [
        "print(\"Input:\\n\", text_from_ids(input_example_batch[0]).numpy())\n",
        "print()\n",
        "print(\"Next Char Predictions:\\n\", text_from_ids(sampled_indices).numpy())"
      ]
    },
    {
      "cell_type": "code",
      "execution_count": null,
      "metadata": {
        "id": "aiAI2XElGT5Z"
      },
      "outputs": [],
      "source": [
        "loss = tf.losses.SparseCategoricalCrossentropy(from_logits=True)"
      ]
    },
    {
      "cell_type": "code",
      "execution_count": null,
      "metadata": {
        "id": "vK63zZ4OGWGF",
        "colab": {
          "base_uri": "https://localhost:8080/"
        },
        "outputId": "bf189729-d48a-4da3-f645-58573fd873e1"
      },
      "outputs": [
        {
          "output_type": "stream",
          "name": "stdout",
          "text": [
            "Prediction shape:  (64, 100, 66)  # (batch_size, sequence_length, vocab_size)\n",
            "Mean loss:         tf.Tensor(4.1895156, shape=(), dtype=float32)\n"
          ]
        }
      ],
      "source": [
        "example_batch_mean_loss = loss(target_example_batch, example_batch_predictions)\n",
        "print(\"Prediction shape: \", example_batch_predictions.shape, \" # (batch_size, sequence_length, vocab_size)\")\n",
        "print(\"Mean loss:        \", example_batch_mean_loss)"
      ]
    },
    {
      "cell_type": "code",
      "execution_count": null,
      "metadata": {
        "id": "pzAlDhNUGX7h",
        "colab": {
          "base_uri": "https://localhost:8080/"
        },
        "outputId": "fa25fe8e-913e-4ee5-8653-c7f00b525031"
      },
      "outputs": [
        {
          "output_type": "execute_result",
          "data": {
            "text/plain": [
              "65.990814"
            ]
          },
          "metadata": {},
          "execution_count": 58
        }
      ],
      "source": [
        "tf.exp(example_batch_mean_loss).numpy()"
      ]
    },
    {
      "cell_type": "code",
      "execution_count": null,
      "metadata": {
        "id": "K_KQl10HGaJh"
      },
      "outputs": [],
      "source": [
        "model.compile(optimizer='adam', loss=loss)"
      ]
    },
    {
      "cell_type": "code",
      "execution_count": null,
      "metadata": {
        "id": "Kyi9DZ_5GcQi"
      },
      "outputs": [],
      "source": [
        "# Directory where the checkpoints will be saved\n",
        "checkpoint_dir = './training_checkpoints'\n",
        "# Name of the checkpoint files\n",
        "checkpoint_prefix = os.path.join(checkpoint_dir, \"ckpt_{epoch}\")\n",
        "\n",
        "checkpoint_callback = tf.keras.callbacks.ModelCheckpoint(\n",
        "    filepath=checkpoint_prefix,\n",
        "    save_weights_only=True)"
      ]
    },
    {
      "cell_type": "code",
      "execution_count": null,
      "metadata": {
        "id": "ZXgcz6iVGeat"
      },
      "outputs": [],
      "source": [
        "EPOCHS = 20"
      ]
    },
    {
      "cell_type": "code",
      "execution_count": null,
      "metadata": {
        "id": "U01BcT0BGhpZ",
        "colab": {
          "base_uri": "https://localhost:8080/"
        },
        "outputId": "003014e1-44cf-44f9-e16f-805d4e655425"
      },
      "outputs": [
        {
          "output_type": "stream",
          "name": "stdout",
          "text": [
            "Epoch 1/20\n",
            "172/172 [==============================] - 14s 55ms/step - loss: 2.7350\n",
            "Epoch 2/20\n",
            "172/172 [==============================] - 11s 55ms/step - loss: 2.0023\n",
            "Epoch 3/20\n",
            "172/172 [==============================] - 11s 55ms/step - loss: 1.7264\n",
            "Epoch 4/20\n",
            "172/172 [==============================] - 11s 55ms/step - loss: 1.5626\n",
            "Epoch 5/20\n",
            "172/172 [==============================] - 11s 54ms/step - loss: 1.4597\n",
            "Epoch 6/20\n",
            "172/172 [==============================] - 11s 53ms/step - loss: 1.3900\n",
            "Epoch 7/20\n",
            "172/172 [==============================] - 11s 52ms/step - loss: 1.3369\n",
            "Epoch 8/20\n",
            "172/172 [==============================] - 11s 53ms/step - loss: 1.2914\n",
            "Epoch 9/20\n",
            "172/172 [==============================] - 11s 53ms/step - loss: 1.2503\n",
            "Epoch 10/20\n",
            "172/172 [==============================] - 11s 54ms/step - loss: 1.2105\n",
            "Epoch 11/20\n",
            "172/172 [==============================] - 11s 54ms/step - loss: 1.1712\n",
            "Epoch 12/20\n",
            "172/172 [==============================] - 11s 55ms/step - loss: 1.1305\n",
            "Epoch 13/20\n",
            "172/172 [==============================] - 11s 55ms/step - loss: 1.0880\n",
            "Epoch 14/20\n",
            "172/172 [==============================] - 11s 53ms/step - loss: 1.0430\n",
            "Epoch 15/20\n",
            "172/172 [==============================] - 11s 52ms/step - loss: 0.9958\n",
            "Epoch 16/20\n",
            "172/172 [==============================] - 11s 53ms/step - loss: 0.9452\n",
            "Epoch 17/20\n",
            "172/172 [==============================] - 11s 54ms/step - loss: 0.8941\n",
            "Epoch 18/20\n",
            "172/172 [==============================] - 11s 55ms/step - loss: 0.8403\n",
            "Epoch 19/20\n",
            "172/172 [==============================] - 11s 53ms/step - loss: 0.7898\n",
            "Epoch 20/20\n",
            "172/172 [==============================] - 11s 54ms/step - loss: 0.7400\n"
          ]
        }
      ],
      "source": [
        "history = model.fit(dataset, epochs=EPOCHS, callbacks=[checkpoint_callback])"
      ]
    },
    {
      "cell_type": "code",
      "execution_count": null,
      "metadata": {
        "id": "jNtOwT36Gjry"
      },
      "outputs": [],
      "source": [
        "class OneStep(tf.keras.Model):\n",
        "  def __init__(self, model, chars_from_ids, ids_from_chars, temperature=1.0):\n",
        "    super().__init__()\n",
        "    self.temperature = temperature\n",
        "    self.model = model\n",
        "    self.chars_from_ids = chars_from_ids\n",
        "    self.ids_from_chars = ids_from_chars\n",
        "\n",
        "    # Create a mask to prevent \"[UNK]\" from being generated.\n",
        "    skip_ids = self.ids_from_chars(['[UNK]'])[:, None]\n",
        "    sparse_mask = tf.SparseTensor(\n",
        "        # Put a -inf at each bad index.\n",
        "        values=[-float('inf')]*len(skip_ids),\n",
        "        indices=skip_ids,\n",
        "        # Match the shape to the vocabulary\n",
        "        dense_shape=[len(ids_from_chars.get_vocabulary())])\n",
        "    self.prediction_mask = tf.sparse.to_dense(sparse_mask)\n",
        "\n",
        "  @tf.function\n",
        "  def generate_one_step(self, inputs, states=None):\n",
        "    # Convert strings to token IDs.\n",
        "    input_chars = tf.strings.unicode_split(inputs, 'UTF-8')\n",
        "    input_ids = self.ids_from_chars(input_chars).to_tensor()\n",
        "\n",
        "    # Run the model.\n",
        "    # predicted_logits.shape is [batch, char, next_char_logits]\n",
        "    predicted_logits, states = self.model(inputs=input_ids, states=states,\n",
        "                                          return_state=True)\n",
        "    # Only use the last prediction.\n",
        "    predicted_logits = predicted_logits[:, -1, :]\n",
        "    predicted_logits = predicted_logits/self.temperature\n",
        "    # Apply the prediction mask: prevent \"[UNK]\" from being generated.\n",
        "    predicted_logits = predicted_logits + self.prediction_mask\n",
        "\n",
        "    # Sample the output logits to generate token IDs.\n",
        "    predicted_ids = tf.random.categorical(predicted_logits, num_samples=1)\n",
        "    predicted_ids = tf.squeeze(predicted_ids, axis=-1)\n",
        "\n",
        "    # Convert from token ids to characters\n",
        "    predicted_chars = self.chars_from_ids(predicted_ids)\n",
        "\n",
        "    # Return the characters and model state.\n",
        "    return predicted_chars, states"
      ]
    },
    {
      "cell_type": "code",
      "execution_count": null,
      "metadata": {
        "id": "wypb_hKFGl8G"
      },
      "outputs": [],
      "source": [
        "one_step_model = OneStep(model, chars_from_ids, ids_from_chars)"
      ]
    },
    {
      "cell_type": "code",
      "execution_count": null,
      "metadata": {
        "id": "5zNtqItFGoYN",
        "colab": {
          "base_uri": "https://localhost:8080/"
        },
        "outputId": "4cc32440-0770-459e-89e6-92cca6ae51c5"
      },
      "outputs": [
        {
          "output_type": "stream",
          "name": "stdout",
          "text": [
            "ROMEO:\n",
            "Speak sin, and a pedilate youth;\n",
            "And though my eldest open my country?\n",
            "\n",
            "Servant:\n",
            "O, she is like a grim basiness, my great doers.\n",
            "Nor you shake of your ancisation. Why, is your good\n",
            "son?\n",
            "To thee to estate his wife a breathe-business did\n",
            "schooly in my living more, my lords, and my inclent time\n",
            "To sacrt if an easy task it so,\n",
            "And sooth, my ragies, gardened by Angels,\n",
            "And yet, as 'twere, indeed, my trust to thee,\n",
            "Then hail, or four o'er, by thy body\n",
            "Is ragued their power into a slave, 'tis brow.\n",
            "No, no, good madam, that you have of Your are,\n",
            "If thou remember'st me trimm itself against a visigh, but best,\n",
            "Thou madly strange love! Plantageny!\n",
            "And you, mine are obenieves, or if it was;\n",
            "mire-prizentle is a worthie thy people,\n",
            "O'l not he do conduct the corm retter\n",
            "Which thou must have forsworn my life\n",
            "Of Lold Nistords both are dead. Then was thy fount\n",
            "A time even never of an age.\n",
            "\n",
            "POLIXENES:\n",
            "Nay, I have stood aming\n",
            "An hour should avoid my passion mercy against me.\n",
            "\n",
            "MARCIUS:\n",
            "Friar. Why, take yo \n",
            "\n",
            "________________________________________________________________________________\n",
            "\n",
            "Run time: 4.062086343765259\n"
          ]
        }
      ],
      "source": [
        "start = time.time()\n",
        "states = None\n",
        "next_char = tf.constant(['ROMEO:'])\n",
        "result = [next_char]\n",
        "\n",
        "for n in range(1000):\n",
        "  next_char, states = one_step_model.generate_one_step(next_char, states=states)\n",
        "  result.append(next_char)\n",
        "\n",
        "result = tf.strings.join(result)\n",
        "end = time.time()\n",
        "print(result[0].numpy().decode('utf-8'), '\\n\\n' + '_'*80)\n",
        "print('\\nRun time:', end - start)"
      ]
    },
    {
      "cell_type": "code",
      "execution_count": null,
      "metadata": {
        "id": "FcEzHNUaGqVH",
        "colab": {
          "base_uri": "https://localhost:8080/"
        },
        "outputId": "679f7edf-02b0-41a3-9bcb-cc33f54a6575"
      },
      "outputs": [
        {
          "output_type": "stream",
          "name": "stdout",
          "text": [
            "tf.Tensor(\n",
            "[b\"ROMEO:\\nThy lords, I will not burden our country me.\\nFor you, Cominius: Let us below my standing sea\\nAnd marth the wind shall not be known.\\n\\nANGELO:\\nWhat more fashions made?\\nWhy did you show his king? 'dis not so, sir,\\nthe very trituness of my cousin: do what I have;\\nAnd now in peace that very time,\\nMuch match'd in a dearer love, build\\nAnd leave that men through stronger bases of their\\nburst; one girl my life the lord; behold my mind\\nOf triumph disgrace this day her flowery.\\n\\nMessenger:\\nMy business is true sons of this vice chastisement,\\nThat all the stands integardey' to an him, I am.\\n\\nKATHARINA:\\nI virtuous time, whose party trespers\\nDid greet my kingdom ope the measure,\\nAs bring me to thy and by leave,\\nAnd therefore arm us home; that so preparation\\nHow thou canst wish before heavents of their creaties;\\nAnd bear the sod, thy princely father, dread'st.\\n\\nROMEO:\\nLumberly, and do set upon my life\\nBut let us hence; how quicks it is it none.\\n\\nMENENIUS:\\nOur slip or will to us our arms,\\nYet I shall \"\n",
            " b\"ROMEO:\\nNay, heavines are not such a realion is.\\n\\nKATHARINA:\\nTuffer, you word loorible!\\nRememblance of God's block, sir. Hast thou now grant children!\\nI think, sir, that you have one on's mad:\\nHa, hang upon you! art true men!\\nIf thou injurtifice that\\nWe meet me in. So shall your bed-very named,\\nI am one power, much betim at common\\nexecutioner. A gentler, their small day,\\nThat may then be madgared, but to cut off a widow,\\nAnd wot fall on thy brazen battle gaper\\nThan shame in A filly or child, 'We see\\nI take my leave unto their festival prince.\\n\\nMARCIUS:\\nI'll forget the godden green.\\n\\nGLOUCESTER:\\n'Twill you have me hence; Addend the hopes wook, thou art\\nI cannot present thy body. This is strange\\nFrom our father, die in decreats\\nIn earnest? they are come to know your patience:\\nTell you, sir, to say he's gentle:\\nWhere is the fireful state, when nonouring their idle\\nMed territories our sakes and eden and twenty sluing.\\nHark in my choice is mad brought be true in My be money?\\n\\nAUFIDIUS:\\nOld think i\"\n",
            " b\"ROMEO:\\nWhere is my enemy? is it that cause would you have heard her charge\\nBut my rebil a hoper boldes;\\nFor evil it will be waxpies than when that fair as was\\nAgainst unjustly she longs that call'd\\nNot like an earthly play or fine, or two of kings;\\nFor, at your honour tears with some foul short.\\n\\nNORTHUMBERLAND:\\nThey shall not be a Roman, after thee in a whole.\\n\\nPOLIXENES:\\nHow! I say, open! much more shows,\\nMust he being one suppling-tity?\\n\\nShepherd:\\nNot\\nConfound you, you might have heard off to\\ngoing enocment; but besides,\\nFear and scorn you both married under thy new shrewd\\nBe saying, hence this cordinally dividest frozance.\\n\\nANGELO:\\nWell then leave your groamster, for we must one word and loves not mine.\\nFarewell, my lord; 'tis for my attempt\\nFor thrown our foot at our exteal'd speeds\\nWith your oracle writes, it was pointors\\nAnd instruments shall ride, that let is made\\nFrom our own bower of this business.\\n\\nGLOUCESTER:\\nMost worthy, will you sole alone.\\n\\nPRINCE EDWARD:\\nSpeak ere we do not s\"\n",
            " b\"ROMEO:\\nPerjury, it is envison me and there\\nMore than I keep in yet?\\n\\nHORTENSIO:\\n'Tis Aufidius, alas! alas! belike he not promplery it.\\nI tell you duke, it should be a gentleman?\\nFarewell: I have an assistant bent: if the good queen's kings\\nAnd all the recondant and as you\\nAssist the means-officers.\\n\\nCOMINIUS:\\nWas stubour\\nnothing! fair and faults urge his head of others?\\nCome, fellow with the jest: go with me\\nUnless yo thou leave times to you,\\nWhen give us wretch--wild end, every dogg'd\\nMust be the vineyable and MarsaHilation;\\nThe principal glory to rejoice his treason:\\nWise, you will, there lies men than no tap.\\n\\nMAMILLIUS:\\nI was it please.\\n\\nHENRY BOLINGBROKE:\\nSo first as Dorn of Bolingbroke, this is\\nyour garmant, and put befail the meeting: pray you, buy\\nTo men his majesty.\\nLook, what I have no poor intent.\\n\\nBAPTISTA:\\nWhat thinkest thou, when I do? so raded?\\nmust we press'd your idle tope\\nAnd infirmity's pale knows on others,\\nWho nothing but misery night\\nSomething hills on the earth, your n\"\n",
            " b\"ROMEO:\\nBut For these kings and Petruchio,\\nIf it to make evequain will I return.\\nWhat he says fently 'en all:\\nBut I would it were it for my brother;\\nAnd, I will appeak these gentleman:\\nThese are to greet out my bide than high.\\n\\nARCIIUS:\\nMerelcing so many short.\\n\\nBUCKINGHAM:\\nWhy, mayard: you are content you shall procure thee,\\nAnd this for pluck: it's streets, by your resolition,\\nIn safely sinstren's and mine have of\\nWarwick! here impossible unchaset, kings\\nAnd he our sun the least intelligence and hair\\nAs eleven all wither'd bade and my arms.\\n\\nVOLUMNIA:\\nHe has gone flowers; boys: what else?\\n\\nDUKE VINCENTIO:\\nBut I will make mercy\\nIf not be look'd pound to some allay tongues.\\n\\nWARWICK:\\nFrom all his worth and holy father's house.\\nGo, see, good parth, old Margaret,\\nWe should be helved in a wonyer:\\nAnd yet I will attend your brother, bring out\\nThe grestity being so great and wite,\\nAnd bid them both have mine honour by\\nA vengean sunjustice: hence and sense;\\nAnd to Nasting, for your pales and men\\nTo\"], shape=(5,), dtype=string) \n",
            "\n",
            "________________________________________________________________________________\n",
            "\n",
            "Run time: 3.2799196243286133\n"
          ]
        }
      ],
      "source": [
        "start = time.time()\n",
        "states = None\n",
        "next_char = tf.constant(['ROMEO:', 'ROMEO:', 'ROMEO:', 'ROMEO:', 'ROMEO:'])\n",
        "result = [next_char]\n",
        "\n",
        "for n in range(1000):\n",
        "  next_char, states = one_step_model.generate_one_step(next_char, states=states)\n",
        "  result.append(next_char)\n",
        "\n",
        "result = tf.strings.join(result)\n",
        "end = time.time()\n",
        "print(result, '\\n\\n' + '_'*80)\n",
        "print('\\nRun time:', end - start)"
      ]
    },
    {
      "cell_type": "code",
      "execution_count": null,
      "metadata": {
        "id": "F2yfU4pGGswp",
        "colab": {
          "base_uri": "https://localhost:8080/"
        },
        "outputId": "b69ebcfb-15ad-4034-efca-c6e217c94df7"
      },
      "outputs": [
        {
          "output_type": "stream",
          "name": "stderr",
          "text": [
            "WARNING:tensorflow:Skipping full serialization of Keras layer <__main__.OneStep object at 0x7d4427464970>, because it is not built.\n",
            "WARNING:tensorflow:Model's `__init__()` arguments contain non-serializable objects. Please implement a `get_config()` method in the subclassed Model for proper saving and loading. Defaulting to empty config.\n",
            "WARNING:tensorflow:Model's `__init__()` arguments contain non-serializable objects. Please implement a `get_config()` method in the subclassed Model for proper saving and loading. Defaulting to empty config.\n"
          ]
        }
      ],
      "source": [
        "tf.saved_model.save(one_step_model, 'one_step')\n",
        "one_step_reloaded = tf.saved_model.load('one_step')"
      ]
    },
    {
      "cell_type": "code",
      "execution_count": null,
      "metadata": {
        "id": "T_R2d8k2GwBT",
        "colab": {
          "base_uri": "https://localhost:8080/"
        },
        "outputId": "31c7a246-7c8c-4f02-daaf-804725b3f93e"
      },
      "outputs": [
        {
          "output_type": "stream",
          "name": "stdout",
          "text": [
            "ROMEO:\n",
            "And you shall curre thee, my air, but says.\n",
            "\n",
            "MENENIUS:\n",
            "O, 'tis an accessar'? what news, is Warwick \n"
          ]
        }
      ],
      "source": [
        "states = None\n",
        "next_char = tf.constant(['ROMEO:'])\n",
        "result = [next_char]\n",
        "\n",
        "for n in range(100):\n",
        "  next_char, states = one_step_reloaded.generate_one_step(next_char, states=states)\n",
        "  result.append(next_char)\n",
        "\n",
        "print(tf.strings.join(result)[0].numpy().decode(\"utf-8\"))"
      ]
    }
  ],
  "metadata": {
    "colab": {
      "provenance": [],
      "gpuType": "T4",
      "include_colab_link": true
    },
    "kernelspec": {
      "display_name": "Python 3",
      "name": "python3"
    },
    "language_info": {
      "name": "python"
    },
    "accelerator": "GPU"
  },
  "nbformat": 4,
  "nbformat_minor": 0
}