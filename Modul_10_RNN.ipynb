{
  "cells": [
    {
      "cell_type": "markdown",
      "metadata": {
        "id": "view-in-github",
        "colab_type": "text"
      },
      "source": [
        "<a href=\"https://colab.research.google.com/github/diaputr/machine-learning/blob/main/Modul_10_RNN.ipynb\" target=\"_parent\"><img src=\"https://colab.research.google.com/assets/colab-badge.svg\" alt=\"Open In Colab\"/></a>"
      ]
    },
    {
      "cell_type": "markdown",
      "metadata": {
        "id": "Oq1Ky4sEkHp_"
      },
      "source": [
        "# Praktikum 1: RNN untuk Analisis Sentimen"
      ]
    },
    {
      "cell_type": "markdown",
      "source": [
        "## Setup\n"
      ],
      "metadata": {
        "id": "lMEg1klexCee"
      }
    },
    {
      "cell_type": "code",
      "execution_count": 4,
      "metadata": {
        "id": "njte0NlMje7x"
      },
      "outputs": [],
      "source": [
        "import numpy as np\n",
        "import tensorflow_datasets as tfds\n",
        "import tensorflow as tf\n",
        "\n",
        "tfds.disable_progress_bar()"
      ]
    },
    {
      "cell_type": "code",
      "execution_count": 5,
      "metadata": {
        "id": "Aqhn30CdkDAm"
      },
      "outputs": [],
      "source": [
        "import matplotlib.pyplot as plt\n",
        "\n",
        "def plot_graphs(history, metric):\n",
        "  plt.plot(history.history[metric])\n",
        "  plt.plot(history.history['val_'+metric], '')\n",
        "  plt.xlabel(\"Epochs\")\n",
        "  plt.ylabel(metric)\n",
        "  plt.legend([metric, 'val_'+metric])"
      ]
    },
    {
      "cell_type": "markdown",
      "source": [
        "## Setup input pipeline"
      ],
      "metadata": {
        "id": "HZd6S05PxJwh"
      }
    },
    {
      "cell_type": "code",
      "execution_count": 6,
      "metadata": {
        "colab": {
          "base_uri": "https://localhost:8080/"
        },
        "id": "1Apr2A6RkSzW",
        "outputId": "94cb7117-82d1-4e12-8ce0-62e76ae4623f"
      },
      "outputs": [
        {
          "output_type": "stream",
          "name": "stdout",
          "text": [
            "Downloading and preparing dataset 80.23 MiB (download: 80.23 MiB, generated: Unknown size, total: 80.23 MiB) to /root/tensorflow_datasets/imdb_reviews/plain_text/1.0.0...\n",
            "Dataset imdb_reviews downloaded and prepared to /root/tensorflow_datasets/imdb_reviews/plain_text/1.0.0. Subsequent calls will reuse this data.\n"
          ]
        },
        {
          "output_type": "execute_result",
          "data": {
            "text/plain": [
              "(TensorSpec(shape=(), dtype=tf.string, name=None),\n",
              " TensorSpec(shape=(), dtype=tf.int64, name=None))"
            ]
          },
          "metadata": {},
          "execution_count": 6
        }
      ],
      "source": [
        "dataset, info = tfds.load('imdb_reviews', with_info=True,as_supervised=True)\n",
        "train_dataset, test_dataset = dataset['train'], dataset['test']\n",
        "\n",
        "train_dataset.element_spec"
      ]
    },
    {
      "cell_type": "code",
      "execution_count": 7,
      "metadata": {
        "colab": {
          "base_uri": "https://localhost:8080/"
        },
        "id": "217N_tJ0kXQ2",
        "outputId": "89dee8f9-ff0b-4e25-da1c-35bb328e5c79"
      },
      "outputs": [
        {
          "output_type": "stream",
          "name": "stdout",
          "text": [
            "text:  b\"This was an absolutely terrible movie. Don't be lured in by Christopher Walken or Michael Ironside. Both are great actors, but this must simply be their worst role in history. Even their great acting could not redeem this movie's ridiculous storyline. This movie is an early nineties US propaganda piece. The most pathetic scenes were those when the Columbian rebels were making their cases for revolutions. Maria Conchita Alonso appeared phony, and her pseudo-love affair with Walken was nothing but a pathetic emotional plug in a movie that was devoid of any real meaning. I am disappointed that there are movies like this, ruining actor's like Christopher Walken's good name. I could barely sit through it.\"\n",
            "label:  0\n"
          ]
        }
      ],
      "source": [
        "for example, label in train_dataset.take(1):\n",
        "  print('text: ', example.numpy())\n",
        "  print('label: ', label.numpy())"
      ]
    },
    {
      "cell_type": "code",
      "execution_count": 8,
      "metadata": {
        "colab": {
          "base_uri": "https://localhost:8080/"
        },
        "id": "C5pk1UdhkZ35",
        "outputId": "a9a7c87f-76b8-4be6-eacc-948f4f2419e3"
      },
      "outputs": [
        {
          "output_type": "stream",
          "name": "stdout",
          "text": [
            "texts:  [b'James J. Corbett\\'s autobiography \"The Roar of the Crowd\" was the starting point of this lively and well-remembered fictionalized biography. The author was heavyweight champion of the world, succeeding John L. Sullivan, before the turn of the century. The events of the narrative depict Corbett as a brash but likable and intelligent young man whose conquest of the world of boxing and social prejudice in his time, when he was considered merely the son of Irish immigrants, a lowly bank teller and a nobody surprised everyone. It took him several hours of exciting and often amusing screen-time to prove his compeers were wrong. He is an bank teller when the film opens, but he somehow wangles an invitation to a sporting club for the well-to-do. He falls in love with a beautiful but snobbish girl, with whom he always seems to be quarreling, and he lives at home with a brawling clan of Corbetts who seem to fight with one another as often as with others. When he defeats the club\\'s best and a professional fighter borough in to embarrass him, he finally decides to become famous by fighting. he sets out on the road with his friend, who acts as manager and trainer, and despite a few near setbacks, he wins all his bouts and attracts attention. Coming home to pursue his girl again, he contrives to annoy the Boston Strongboy, mighty John L. Sullivan, who enters bars and claims he can \"lick any man in the world\". Few believe he can win a bout against Sullivan, but Corbett, dubbed \"Gentleman Jim\" for his gracious manners and patrician appearance surprises everyone by moving, dancing out of range, and negating the furious Sullivan\\'s power. The film\\'s finest scene perhaps comes when a beaten Sullivan comes to congratulate Corbett. The new champion rises to the moment, tells Sullivan a few years before it might have been different, and shows him nothing but admiration and respect. He gets his girl as a result of his two performances, but by the end of the film, as they visit his s parents, his manager is able to tell the world, \"The Corbetts are at it again\". The films is attractive and has a consistent style without being flashy. The script was written by veteran Horace McCoy and Vincent Lawrence from the Corbett novel. Sidney Hickox did the cinematography, with period set decorations by Clarence Steensen and art direction by Ted Smith. Heinz Roemheld did the music and Milo Anderson the gowns. The film was ably directed by action-film specialist Raoul Walsh. Flynn also liked working with Walsh but did not care for the other director he worked for most often, Michael Curtiz. Among the cast,were Ward Bond as John L. Sullivan, in one of his best performances lovely Alexis Smith a bit spotty but intelligent as the girl Corbett loves and a very able Errol Flynn as Corbett, a young man he seemed to relish playing--he later said it was his favorite role from the period...Jack Carson was his manager, Alan Hale his charismatic father, John Loder a rich foe, with William Frawley, Minor Watson, Madeleine LeBeau, Rhys Williams, Arthur Shields, Dorothy Vaughn and Mike Mazurki along for the enjoyable proceedings. It is hard to say enough about the logic and light-hearted fun this movie\\'s makers have generated; it is one of the best-liked of all sports biography films, and by my standards one of the most enjoyable as well.'\n",
            " b'Or released on DVD or screened on a cable channel like Amer. Life TV network. I have been watching another favorite, \"Voyage to the Bottom of the Sea\", as well as \"Lost in Space\" and Land of Giants\". They\\'ve been showing them forever but aren\\'t receptive to suggestions for other shows. My father and I were big fans as I was already a big science/electronics nut, (still am) and my father was an old school chum of Nader. They both attended Oxy together. I still have memories of several of the episodes even though I was only 9. More so than any show that old. I think it was televised on Sat. after \"Bonanza\". Some of the episodes I recall are the one where he takes the experimental drug that slows down action. Or the one where he body surfs the big ones, (I did that too!) Or the one where there was a mine cave in and he conveys how to use mind control to have the trapped people slow their breathing by entering a trance-like state. That is the one show that I wish I could see again. I got my wish with the original \"Outer Limits\" and \"Sci-Fi Theater...John'\n",
            " b\"Nicole Kidman is a wonderful actress and here she's great. I really liked Ben Chaplin in The Thin Red Line and he is very good here too. This is not Great Cinema but I was most entertained. Given most films these days this is High Praise indeed.\"]\n",
            "\n",
            "labels:  [1 1 1]\n"
          ]
        }
      ],
      "source": [
        "BUFFER_SIZE = 10000\n",
        "BATCH_SIZE = 64\n",
        "\n",
        "train_dataset = train_dataset.shuffle(BUFFER_SIZE).batch(BATCH_SIZE).prefetch(tf.data.AUTOTUNE)\n",
        "test_dataset = test_dataset.batch(BATCH_SIZE).prefetch(tf.data.AUTOTUNE)\n",
        "\n",
        "for example, label in train_dataset.take(1):\n",
        "  print('texts: ', example.numpy()[:3])\n",
        "  print()\n",
        "  print('labels: ', label.numpy()[:3])"
      ]
    },
    {
      "cell_type": "markdown",
      "source": [
        "## Buat Teks Encoder"
      ],
      "metadata": {
        "id": "dDUGIsDdxQUo"
      }
    },
    {
      "cell_type": "code",
      "execution_count": 9,
      "metadata": {
        "id": "9v9cGbV1pQ2s"
      },
      "outputs": [],
      "source": [
        "VOCAB_SIZE = 1000\n",
        "encoder = tf.keras.layers.TextVectorization(max_tokens=VOCAB_SIZE)\n",
        "encoder.adapt(train_dataset.map(lambda text, label: text))"
      ]
    },
    {
      "cell_type": "code",
      "execution_count": 10,
      "metadata": {
        "colab": {
          "base_uri": "https://localhost:8080/"
        },
        "id": "WtTUHYCGpSqU",
        "outputId": "e0c11dbf-ce33-400f-c60c-41fe5b871a21"
      },
      "outputs": [
        {
          "output_type": "execute_result",
          "data": {
            "text/plain": [
              "array(['', '[UNK]', 'the', 'and', 'a', 'of', 'to', 'is', 'in', 'it', 'i',\n",
              "       'this', 'that', 'br', 'was', 'as', 'for', 'with', 'movie', 'but'],\n",
              "      dtype='<U14')"
            ]
          },
          "metadata": {},
          "execution_count": 10
        }
      ],
      "source": [
        "vocab = np.array(encoder.get_vocabulary())\n",
        "vocab[:20]"
      ]
    },
    {
      "cell_type": "code",
      "execution_count": 11,
      "metadata": {
        "colab": {
          "base_uri": "https://localhost:8080/"
        },
        "id": "hlYzFkdNpV_2",
        "outputId": "64281ffb-9319-4480-8013-39296ec61206"
      },
      "outputs": [
        {
          "output_type": "execute_result",
          "data": {
            "text/plain": [
              "array([[565,   1,   1, ...,   0,   0,   0],\n",
              "       [ 42, 627,  21, ...,   0,   0,   0],\n",
              "       [  1,   1,   7, ...,   0,   0,   0]])"
            ]
          },
          "metadata": {},
          "execution_count": 11
        }
      ],
      "source": [
        "encoded_example = encoder(example)[:3].numpy()\n",
        "encoded_example"
      ]
    },
    {
      "cell_type": "code",
      "execution_count": 12,
      "metadata": {
        "colab": {
          "base_uri": "https://localhost:8080/"
        },
        "id": "-n8E-9F_pZbj",
        "outputId": "be9e67c3-a038-49d6-9830-ea93234e1c90"
      },
      "outputs": [
        {
          "output_type": "stream",
          "name": "stdout",
          "text": [
            "Original:  b'James J. Corbett\\'s autobiography \"The Roar of the Crowd\" was the starting point of this lively and well-remembered fictionalized biography. The author was heavyweight champion of the world, succeeding John L. Sullivan, before the turn of the century. The events of the narrative depict Corbett as a brash but likable and intelligent young man whose conquest of the world of boxing and social prejudice in his time, when he was considered merely the son of Irish immigrants, a lowly bank teller and a nobody surprised everyone. It took him several hours of exciting and often amusing screen-time to prove his compeers were wrong. He is an bank teller when the film opens, but he somehow wangles an invitation to a sporting club for the well-to-do. He falls in love with a beautiful but snobbish girl, with whom he always seems to be quarreling, and he lives at home with a brawling clan of Corbetts who seem to fight with one another as often as with others. When he defeats the club\\'s best and a professional fighter borough in to embarrass him, he finally decides to become famous by fighting. he sets out on the road with his friend, who acts as manager and trainer, and despite a few near setbacks, he wins all his bouts and attracts attention. Coming home to pursue his girl again, he contrives to annoy the Boston Strongboy, mighty John L. Sullivan, who enters bars and claims he can \"lick any man in the world\". Few believe he can win a bout against Sullivan, but Corbett, dubbed \"Gentleman Jim\" for his gracious manners and patrician appearance surprises everyone by moving, dancing out of range, and negating the furious Sullivan\\'s power. The film\\'s finest scene perhaps comes when a beaten Sullivan comes to congratulate Corbett. The new champion rises to the moment, tells Sullivan a few years before it might have been different, and shows him nothing but admiration and respect. He gets his girl as a result of his two performances, but by the end of the film, as they visit his s parents, his manager is able to tell the world, \"The Corbetts are at it again\". The films is attractive and has a consistent style without being flashy. The script was written by veteran Horace McCoy and Vincent Lawrence from the Corbett novel. Sidney Hickox did the cinematography, with period set decorations by Clarence Steensen and art direction by Ted Smith. Heinz Roemheld did the music and Milo Anderson the gowns. The film was ably directed by action-film specialist Raoul Walsh. Flynn also liked working with Walsh but did not care for the other director he worked for most often, Michael Curtiz. Among the cast,were Ward Bond as John L. Sullivan, in one of his best performances lovely Alexis Smith a bit spotty but intelligent as the girl Corbett loves and a very able Errol Flynn as Corbett, a young man he seemed to relish playing--he later said it was his favorite role from the period...Jack Carson was his manager, Alan Hale his charismatic father, John Loder a rich foe, with William Frawley, Minor Watson, Madeleine LeBeau, Rhys Williams, Arthur Shields, Dorothy Vaughn and Mike Mazurki along for the enjoyable proceedings. It is hard to say enough about the logic and light-hearted fun this movie\\'s makers have generated; it is one of the best-liked of all sports biography films, and by my standards one of the most enjoyable as well.'\n",
            "Round-trip:  james [UNK] [UNK] [UNK] the [UNK] of the [UNK] was the [UNK] point of this [UNK] and [UNK] [UNK] [UNK] the [UNK] was [UNK] [UNK] of the world [UNK] john [UNK] [UNK] before the turn of the [UNK] the events of the [UNK] [UNK] [UNK] as a [UNK] but [UNK] and [UNK] young man whose [UNK] of the world of [UNK] and [UNK] [UNK] in his time when he was [UNK] [UNK] the son of [UNK] [UNK] a [UNK] [UNK] [UNK] and a [UNK] surprised everyone it took him several hours of [UNK] and often [UNK] [UNK] to [UNK] his [UNK] were wrong he is an [UNK] [UNK] when the film [UNK] but he somehow [UNK] an [UNK] to a [UNK] [UNK] for the [UNK] he falls in love with a beautiful but [UNK] girl with whom he always seems to be [UNK] and he lives at home with a [UNK] [UNK] of [UNK] who seem to fight with one another as often as with others when he [UNK] the [UNK] best and a [UNK] [UNK] [UNK] in to [UNK] him he finally [UNK] to become famous by fighting he sets out on the [UNK] with his friend who [UNK] as [UNK] and [UNK] and despite a few near [UNK] he [UNK] all his [UNK] and [UNK] attention coming home to [UNK] his girl again he [UNK] to [UNK] the [UNK] [UNK] [UNK] john [UNK] [UNK] who [UNK] [UNK] and [UNK] he can [UNK] any man in the world few believe he can [UNK] a [UNK] against [UNK] but [UNK] [UNK] [UNK] [UNK] for his [UNK] [UNK] and [UNK] [UNK] [UNK] everyone by moving [UNK] out of [UNK] and [UNK] the [UNK] [UNK] power the films [UNK] scene perhaps comes when a [UNK] [UNK] comes to [UNK] [UNK] the new [UNK] [UNK] to the moment tells [UNK] a few years before it might have been different and shows him nothing but [UNK] and [UNK] he gets his girl as a result of his two performances but by the end of the film as they [UNK] his [UNK] parents his [UNK] is able to tell the world the [UNK] are at it again the films is [UNK] and has a [UNK] style without being [UNK] the script was written by [UNK] [UNK] [UNK] and [UNK] [UNK] from the [UNK] novel [UNK] [UNK] did the cinematography with period set [UNK] by [UNK] [UNK] and art direction by [UNK] [UNK] [UNK] [UNK] did the music and [UNK] [UNK] the [UNK] the film was [UNK] directed by [UNK] [UNK] [UNK] [UNK] [UNK] also liked working with [UNK] but did not care for the other director he worked for most often michael [UNK] among the [UNK] [UNK] [UNK] as john [UNK] [UNK] in one of his best performances [UNK] [UNK] [UNK] a bit [UNK] but [UNK] as the girl [UNK] [UNK] and a very able [UNK] [UNK] as [UNK] a young man he seemed to [UNK] [UNK] later said it was his favorite role from the [UNK] [UNK] was his [UNK] [UNK] [UNK] his [UNK] father john [UNK] a [UNK] [UNK] with [UNK] [UNK] [UNK] [UNK] [UNK] [UNK] [UNK] [UNK] [UNK] [UNK] [UNK] [UNK] and [UNK] [UNK] along for the enjoyable [UNK] it is hard to say enough about the [UNK] and [UNK] fun this movies [UNK] have [UNK] it is one of the [UNK] of all [UNK] [UNK] films and by my [UNK] one of the most enjoyable as well                                                                                                                                                                                                                                                                 \n",
            "\n",
            "Original:  b'Or released on DVD or screened on a cable channel like Amer. Life TV network. I have been watching another favorite, \"Voyage to the Bottom of the Sea\", as well as \"Lost in Space\" and Land of Giants\". They\\'ve been showing them forever but aren\\'t receptive to suggestions for other shows. My father and I were big fans as I was already a big science/electronics nut, (still am) and my father was an old school chum of Nader. They both attended Oxy together. I still have memories of several of the episodes even though I was only 9. More so than any show that old. I think it was televised on Sat. after \"Bonanza\". Some of the episodes I recall are the one where he takes the experimental drug that slows down action. Or the one where he body surfs the big ones, (I did that too!) Or the one where there was a mine cave in and he conveys how to use mind control to have the trapped people slow their breathing by entering a trance-like state. That is the one show that I wish I could see again. I got my wish with the original \"Outer Limits\" and \"Sci-Fi Theater...John'\n",
            "Round-trip:  or released on dvd or [UNK] on a [UNK] [UNK] like [UNK] life tv [UNK] i have been watching another favorite [UNK] to the [UNK] of the [UNK] as well as lost in space and [UNK] of [UNK] [UNK] been showing them [UNK] but arent [UNK] to [UNK] for other shows my father and i were big fans as i was already a big [UNK] [UNK] still am and my father was an old school [UNK] of [UNK] they both [UNK] [UNK] together i still have [UNK] of several of the episodes even though i was only [UNK] more so than any show that old i think it was [UNK] on [UNK] after [UNK] some of the episodes i [UNK] are the one where he takes the [UNK] [UNK] that [UNK] down action or the one where he body [UNK] the big ones i did that too or the one where there was a [UNK] [UNK] in and he [UNK] how to use mind [UNK] to have the [UNK] people slow their [UNK] by [UNK] a [UNK] [UNK] that is the one show that i wish i could see again i got my wish with the original [UNK] [UNK] and scifi [UNK]                                                                                                                                                                                                                                                                                                                                                                                                                                                                                                                                                                                                                                                       \n",
            "\n",
            "Original:  b\"Nicole Kidman is a wonderful actress and here she's great. I really liked Ben Chaplin in The Thin Red Line and he is very good here too. This is not Great Cinema but I was most entertained. Given most films these days this is High Praise indeed.\"\n",
            "Round-trip:  [UNK] [UNK] is a wonderful actress and here shes great i really liked [UNK] [UNK] in the [UNK] red line and he is very good here too this is not great cinema but i was most [UNK] given most films these days this is high [UNK] indeed                                                                                                                                                                                                                                                                                                                                                                                                                                                                                                                                                                                                                                                                                                                                                                                                                  \n",
            "\n"
          ]
        }
      ],
      "source": [
        "for n in range(3):\n",
        "  print(\"Original: \", example[n].numpy())\n",
        "  print(\"Round-trip: \", \" \".join(vocab[encoded_example[n]]))\n",
        "  print()"
      ]
    },
    {
      "cell_type": "markdown",
      "source": [
        "## Buat Model"
      ],
      "metadata": {
        "id": "quU5c9mkxYOf"
      }
    },
    {
      "cell_type": "code",
      "execution_count": 13,
      "metadata": {
        "id": "LtDjdbnapcpM"
      },
      "outputs": [],
      "source": [
        "model = tf.keras.Sequential([\n",
        "    encoder,\n",
        "    tf.keras.layers.Embedding(\n",
        "        input_dim=len(encoder.get_vocabulary()),\n",
        "        output_dim=64,\n",
        "        # Use masking to handle the variable sequence lengths\n",
        "        mask_zero=True),\n",
        "    tf.keras.layers.Bidirectional(tf.keras.layers.LSTM(64)),\n",
        "    tf.keras.layers.Dense(64, activation='relu'),\n",
        "    tf.keras.layers.Dense(1)\n",
        "])"
      ]
    },
    {
      "cell_type": "code",
      "execution_count": 14,
      "metadata": {
        "colab": {
          "base_uri": "https://localhost:8080/"
        },
        "id": "ADRApcP2pdtB",
        "outputId": "99a24f3f-7578-4942-b4b4-46e5c3012ee3"
      },
      "outputs": [
        {
          "output_type": "stream",
          "name": "stdout",
          "text": [
            "[False, True, True, True, True]\n"
          ]
        }
      ],
      "source": [
        "print([layer.supports_masking for layer in model.layers])"
      ]
    },
    {
      "cell_type": "code",
      "execution_count": 15,
      "metadata": {
        "colab": {
          "base_uri": "https://localhost:8080/"
        },
        "id": "W_yBBhFUpm1a",
        "outputId": "92d695fa-04bd-45c1-aed6-f724420fb7ca"
      },
      "outputs": [
        {
          "output_type": "stream",
          "name": "stdout",
          "text": [
            "1/1 [==============================] - 7s 7s/step\n",
            "[0.01287158]\n"
          ]
        }
      ],
      "source": [
        "# predict on a sample text without padding.\n",
        "\n",
        "sample_text = ('The movie was cool. The animation and the graphics '\n",
        "               'were out of this world. I would recommend this movie.')\n",
        "predictions = model.predict(np.array([sample_text]))\n",
        "print(predictions[0])"
      ]
    },
    {
      "cell_type": "code",
      "execution_count": 16,
      "metadata": {
        "colab": {
          "base_uri": "https://localhost:8080/"
        },
        "id": "fKr2Y83xprCZ",
        "outputId": "ec2c7662-40da-46bc-d829-f7a120c5c316"
      },
      "outputs": [
        {
          "output_type": "stream",
          "name": "stdout",
          "text": [
            "1/1 [==============================] - 0s 60ms/step\n",
            "[0.01287158]\n"
          ]
        }
      ],
      "source": [
        "# predict on a sample text with padding\n",
        "\n",
        "padding = \"the \" * 2000\n",
        "predictions = model.predict(np.array([sample_text, padding]))\n",
        "print(predictions[0])"
      ]
    },
    {
      "cell_type": "code",
      "execution_count": 17,
      "metadata": {
        "id": "J5e6F7lapvW2"
      },
      "outputs": [],
      "source": [
        "model.compile(loss=tf.keras.losses.BinaryCrossentropy(from_logits=True),\n",
        "              optimizer=tf.keras.optimizers.Adam(1e-4),\n",
        "              metrics=['accuracy'])"
      ]
    },
    {
      "cell_type": "markdown",
      "source": [
        "## Train Model"
      ],
      "metadata": {
        "id": "Nipu2GtJxduQ"
      }
    },
    {
      "cell_type": "code",
      "execution_count": 18,
      "metadata": {
        "colab": {
          "base_uri": "https://localhost:8080/"
        },
        "id": "dn2tEXx-pxYP",
        "outputId": "a6a7a757-1cc3-4efd-af91-6f049be36739"
      },
      "outputs": [
        {
          "output_type": "stream",
          "name": "stdout",
          "text": [
            "Epoch 1/10\n",
            "391/391 [==============================] - 51s 102ms/step - loss: 0.6273 - accuracy: 0.5812 - val_loss: 0.4618 - val_accuracy: 0.7979\n",
            "Epoch 2/10\n",
            "391/391 [==============================] - 25s 64ms/step - loss: 0.3849 - accuracy: 0.8258 - val_loss: 0.3621 - val_accuracy: 0.8427\n",
            "Epoch 3/10\n",
            "391/391 [==============================] - 24s 60ms/step - loss: 0.3346 - accuracy: 0.8544 - val_loss: 0.3398 - val_accuracy: 0.8500\n",
            "Epoch 4/10\n",
            "391/391 [==============================] - 25s 64ms/step - loss: 0.3218 - accuracy: 0.8606 - val_loss: 0.3357 - val_accuracy: 0.8573\n",
            "Epoch 5/10\n",
            "391/391 [==============================] - 24s 60ms/step - loss: 0.3142 - accuracy: 0.8634 - val_loss: 0.3277 - val_accuracy: 0.8484\n",
            "Epoch 6/10\n",
            "391/391 [==============================] - 24s 61ms/step - loss: 0.3065 - accuracy: 0.8680 - val_loss: 0.3204 - val_accuracy: 0.8589\n",
            "Epoch 7/10\n",
            "391/391 [==============================] - 23s 59ms/step - loss: 0.3045 - accuracy: 0.8697 - val_loss: 0.3381 - val_accuracy: 0.8391\n",
            "Epoch 8/10\n",
            "391/391 [==============================] - 25s 64ms/step - loss: 0.3028 - accuracy: 0.8691 - val_loss: 0.3259 - val_accuracy: 0.8552\n",
            "Epoch 9/10\n",
            "391/391 [==============================] - 25s 62ms/step - loss: 0.3016 - accuracy: 0.8697 - val_loss: 0.3312 - val_accuracy: 0.8479\n",
            "Epoch 10/10\n",
            "391/391 [==============================] - 24s 61ms/step - loss: 0.3014 - accuracy: 0.8699 - val_loss: 0.3215 - val_accuracy: 0.8583\n"
          ]
        }
      ],
      "source": [
        "history = model.fit(train_dataset, epochs=10, validation_data=test_dataset, validation_steps=30)"
      ]
    },
    {
      "cell_type": "code",
      "execution_count": 19,
      "metadata": {
        "id": "r7YNgXXZpzw2",
        "colab": {
          "base_uri": "https://localhost:8080/"
        },
        "outputId": "e79d2bd5-604d-42f6-d8b6-c1816eabfbf5"
      },
      "outputs": [
        {
          "output_type": "stream",
          "name": "stdout",
          "text": [
            "391/391 [==============================] - 11s 29ms/step - loss: 0.3174 - accuracy: 0.8588\n",
            "Test Loss: 0.31738415360450745\n",
            "Test Accuracy: 0.8588399887084961\n"
          ]
        }
      ],
      "source": [
        "test_loss, test_acc = model.evaluate(test_dataset)\n",
        "\n",
        "print('Test Loss:', test_loss)\n",
        "print('Test Accuracy:', test_acc)"
      ]
    },
    {
      "cell_type": "code",
      "execution_count": 20,
      "metadata": {
        "id": "9XjiNuYGp6nS",
        "colab": {
          "base_uri": "https://localhost:8080/",
          "height": 675
        },
        "outputId": "43b4e663-0a46-4958-b89d-54ca40ee1431"
      },
      "outputs": [
        {
          "output_type": "execute_result",
          "data": {
            "text/plain": [
              "(0.0, 0.6436117991805077)"
            ]
          },
          "metadata": {},
          "execution_count": 20
        },
        {
          "output_type": "display_data",
          "data": {
            "text/plain": [
              "<Figure size 1600x800 with 2 Axes>"
            ],
            "image/png": "[encoded data removed]"
          },
          "metadata": {}
        }
      ],
      "source": [
        "plt.figure(figsize=(16, 8))\n",
        "plt.subplot(1, 2, 1)\n",
        "plot_graphs(history, 'accuracy')\n",
        "plt.ylim(None, 1)\n",
        "plt.subplot(1, 2, 2)\n",
        "plot_graphs(history, 'loss')\n",
        "plt.ylim(0, None)"
      ]
    },
    {
      "cell_type": "code",
      "execution_count": 21,
      "metadata": {
        "id": "RexUXfTYp8wN",
        "colab": {
          "base_uri": "https://localhost:8080/"
        },
        "outputId": "4cdaf7c0-de79-4529-92bf-90bf9f33adc6"
      },
      "outputs": [
        {
          "output_type": "stream",
          "name": "stdout",
          "text": [
            "1/1 [==============================] - 2s 2s/step\n"
          ]
        }
      ],
      "source": [
        "sample_text = ('The movie was cool. The animation and the graphics '\n",
        "'were out of this world. I would recommend this movie.')\n",
        "predictions = model.predict(np.array([sample_text]))"
      ]
    },
    {
      "cell_type": "markdown",
      "source": [
        "## Stack two or more LSTM layers"
      ],
      "metadata": {
        "id": "wY35YT_CxyGF"
      }
    },
    {
      "cell_type": "code",
      "execution_count": 22,
      "metadata": {
        "id": "-7b3s2fKqAYf"
      },
      "outputs": [],
      "source": [
        "model = tf.keras.Sequential([encoder, tf.keras.layers.Embedding(\n",
        "  len(encoder.get_vocabulary()), 64, mask_zero=True),\n",
        "  tf.keras.layers.Bidirectional(tf.keras.layers.LSTM(64, return_sequences=True)),\n",
        "  tf.keras.layers.Bidirectional(tf.keras.layers.LSTM(32)),\n",
        "  tf.keras.layers.Dense(64, activation='relu'),\n",
        "  tf.keras.layers.Dropout(0.5),\n",
        "  tf.keras.layers.Dense(1)\n",
        "])"
      ]
    },
    {
      "cell_type": "code",
      "execution_count": 23,
      "metadata": {
        "id": "71zWyNckqR6f"
      },
      "outputs": [],
      "source": [
        "model.compile(loss=tf.keras.losses.BinaryCrossentropy(from_logits=True), optimizer=tf.keras.optimizers.Adam(1e-4), metrics=['accuracy'])"
      ]
    },
    {
      "cell_type": "code",
      "execution_count": 24,
      "metadata": {
        "id": "sfn8TOy6qTxz",
        "colab": {
          "base_uri": "https://localhost:8080/"
        },
        "outputId": "2d50dade-dcd3-4b8c-e052-97a3a6f9aa6a"
      },
      "outputs": [
        {
          "output_type": "stream",
          "name": "stdout",
          "text": [
            "Epoch 1/10\n",
            "391/391 [==============================] - 75s 147ms/step - loss: 0.6056 - accuracy: 0.6100 - val_loss: 0.4152 - val_accuracy: 0.8120\n",
            "Epoch 2/10\n",
            "391/391 [==============================] - 45s 114ms/step - loss: 0.3828 - accuracy: 0.8358 - val_loss: 0.3624 - val_accuracy: 0.8531\n",
            "Epoch 3/10\n",
            "391/391 [==============================] - 46s 118ms/step - loss: 0.3383 - accuracy: 0.8570 - val_loss: 0.3459 - val_accuracy: 0.8552\n",
            "Epoch 4/10\n",
            "391/391 [==============================] - 46s 117ms/step - loss: 0.3199 - accuracy: 0.8646 - val_loss: 0.3252 - val_accuracy: 0.8505\n",
            "Epoch 5/10\n",
            "391/391 [==============================] - 44s 113ms/step - loss: 0.3183 - accuracy: 0.8642 - val_loss: 0.3406 - val_accuracy: 0.8479\n",
            "Epoch 6/10\n",
            "391/391 [==============================] - 47s 120ms/step - loss: 0.3124 - accuracy: 0.8698 - val_loss: 0.3278 - val_accuracy: 0.8427\n",
            "Epoch 7/10\n",
            "391/391 [==============================] - 45s 116ms/step - loss: 0.3066 - accuracy: 0.8717 - val_loss: 0.3223 - val_accuracy: 0.8594\n",
            "Epoch 8/10\n",
            "391/391 [==============================] - 49s 124ms/step - loss: 0.3039 - accuracy: 0.8728 - val_loss: 0.3205 - val_accuracy: 0.8578\n",
            "Epoch 9/10\n",
            "391/391 [==============================] - 45s 116ms/step - loss: 0.2990 - accuracy: 0.8743 - val_loss: 0.3227 - val_accuracy: 0.8516\n",
            "Epoch 10/10\n",
            "391/391 [==============================] - 47s 120ms/step - loss: 0.2963 - accuracy: 0.8745 - val_loss: 0.3215 - val_accuracy: 0.8635\n"
          ]
        }
      ],
      "source": [
        "history = model.fit(train_dataset, epochs=10, validation_data=test_dataset, validation_steps=30)"
      ]
    },
    {
      "cell_type": "code",
      "execution_count": 25,
      "metadata": {
        "id": "43Whkv_1qVMu",
        "colab": {
          "base_uri": "https://localhost:8080/"
        },
        "outputId": "88eec2fa-a8fb-402b-8676-6ca05e6527d3"
      },
      "outputs": [
        {
          "output_type": "stream",
          "name": "stdout",
          "text": [
            "391/391 [==============================] - 20s 50ms/step - loss: 0.3170 - accuracy: 0.8641\n",
            "Test Loss: 0.31699100136756897\n",
            "Test Accuracy: 0.8641200065612793\n"
          ]
        }
      ],
      "source": [
        "test_loss, test_acc = model.evaluate(test_dataset)\n",
        "\n",
        "print('Test Loss:', test_loss)\n",
        "print('Test Accuracy:', test_acc)"
      ]
    },
    {
      "cell_type": "code",
      "execution_count": 26,
      "metadata": {
        "id": "5qhdLiWmqYXn",
        "colab": {
          "base_uri": "https://localhost:8080/"
        },
        "outputId": "39c89de5-54a6-4a48-b701-87931a91f959"
      },
      "outputs": [
        {
          "output_type": "stream",
          "name": "stdout",
          "text": [
            "1/1 [==============================] - 5s 5s/step\n",
            "[[-2.100069]]\n"
          ]
        }
      ],
      "source": [
        "# predict on a sample text without padding.\n",
        "\n",
        "sample_text = ('The movie was not good. The animation and the graphics '\n",
        "'were terrible. I would not recommend this movie.')\n",
        "predictions = model.predict(np.array([sample_text]))\n",
        "print(predictions)"
      ]
    },
    {
      "cell_type": "code",
      "execution_count": 27,
      "metadata": {
        "id": "kLVijiWgqcgE",
        "colab": {
          "base_uri": "https://localhost:8080/",
          "height": 509
        },
        "outputId": "5f7f44ed-3df1-4f04-a35e-c037628a9b1f"
      },
      "outputs": [
        {
          "output_type": "display_data",
          "data": {
            "text/plain": [
              "<Figure size 1600x600 with 2 Axes>"
            ],
            "image/png": "[encoded data removed]"
          },
          "metadata": {}
        }
      ],
      "source": [
        "plt.figure(figsize=(16, 6))\n",
        "plt.subplot(1, 2, 1)\n",
        "plot_graphs(history, 'accuracy')\n",
        "plt.subplot(1, 2, 2)\n",
        "plot_graphs(history, 'loss')"
      ]
    },
    {
      "cell_type": "markdown",
      "metadata": {
        "id": "3wBX0nFWsEKW"
      },
      "source": [
        "# Praktikum 2: Generator Teks dengan RNN"
      ]
    },
    {
      "cell_type": "markdown",
      "source": [
        "## Import TensorFlow"
      ],
      "metadata": {
        "id": "rrlIvJoxyBpc"
      }
    },
    {
      "cell_type": "code",
      "execution_count": 28,
      "metadata": {
        "id": "BLA5DXn_qccX"
      },
      "outputs": [],
      "source": [
        "import tensorflow as tf\n",
        "import numpy as np\n",
        "import os\n",
        "import time"
      ]
    },
    {
      "cell_type": "markdown",
      "source": [
        "## Download Dataset Shakespeare"
      ],
      "metadata": {
        "id": "wsWAbh1AyDnQ"
      }
    },
    {
      "cell_type": "code",
      "execution_count": 29,
      "metadata": {
        "id": "clbnLzGYExak",
        "colab": {
          "base_uri": "https://localhost:8080/"
        },
        "outputId": "44c8f7d4-75dc-4c5e-968a-784c3419270c"
      },
      "outputs": [
        {
          "output_type": "stream",
          "name": "stdout",
          "text": [
            "Downloading data from https://storage.googleapis.com/download.tensorflow.org/data/shakespeare.txt\n",
            "1115394/1115394 [==============================] - 1s 1us/step\n"
          ]
        }
      ],
      "source": [
        "path_to_file  = tf.keras.utils.get_file('shakespeare.txt', 'https://storage.googleapis.com/download.tensorflow.org/data/shakespeare.txt')"
      ]
    },
    {
      "cell_type": "markdown",
      "source": [
        "## Load Data"
      ],
      "metadata": {
        "id": "XdaEj17EyHMG"
      }
    },
    {
      "cell_type": "code",
      "execution_count": 30,
      "metadata": {
        "id": "rOV15ESiE0g3",
        "colab": {
          "base_uri": "https://localhost:8080/"
        },
        "outputId": "2af1084a-1582-427a-9453-ebd65141b7d5"
      },
      "outputs": [
        {
          "output_type": "stream",
          "name": "stdout",
          "text": [
            "Length of text: 1115394 characters\n"
          ]
        }
      ],
      "source": [
        "# Read, then decode for py2 compat.\n",
        "text = open(path_to_file, 'rb').read().decode(encoding='utf-8')\n",
        "# length of text is the number of characters in it\n",
        "print(f'Length of text: {len(text)} characters')"
      ]
    },
    {
      "cell_type": "code",
      "execution_count": 31,
      "metadata": {
        "id": "JD3U0fJkE5L5",
        "colab": {
          "base_uri": "https://localhost:8080/"
        },
        "outputId": "be9a8e49-7e2d-4882-ac95-a72c6dc33e9a"
      },
      "outputs": [
        {
          "output_type": "stream",
          "name": "stdout",
          "text": [
            "First Citizen:\n",
            "Before we proceed any further, hear me speak.\n",
            "\n",
            "All:\n",
            "Speak, speak.\n",
            "\n",
            "First Citizen:\n",
            "You are all resolved rather to die than to famish?\n",
            "\n",
            "All:\n",
            "Resolved. resolved.\n",
            "\n",
            "First Citizen:\n",
            "First, you know Caius Marcius is chief enemy to the people.\n",
            "\n"
          ]
        }
      ],
      "source": [
        "# Take a look at the first 250 characters in text\n",
        "print(text[:250])"
      ]
    },
    {
      "cell_type": "code",
      "execution_count": 32,
      "metadata": {
        "id": "yC0ScBa-E8pc",
        "colab": {
          "base_uri": "https://localhost:8080/"
        },
        "outputId": "3f34d60f-078c-4ee5-9a6f-b7032bd23e8f"
      },
      "outputs": [
        {
          "output_type": "stream",
          "name": "stdout",
          "text": [
            "65 unique characters\n"
          ]
        }
      ],
      "source": [
        "# The unique characters in the file\n",
        "vocab = sorted(set(text))\n",
        "print(f'{len(vocab)} unique characters')"
      ]
    },
    {
      "cell_type": "markdown",
      "source": [
        "## Vectorize Teks"
      ],
      "metadata": {
        "id": "xZ2Q2kPqyPbY"
      }
    },
    {
      "cell_type": "code",
      "execution_count": 33,
      "metadata": {
        "id": "nF-NtLAIFB23",
        "colab": {
          "base_uri": "https://localhost:8080/"
        },
        "outputId": "6b81ffe7-6b90-4196-f2ec-9edeb41cf637"
      },
      "outputs": [
        {
          "output_type": "execute_result",
          "data": {
            "text/plain": [
              "<tf.RaggedTensor [[b'a', b'b', b'c', b'd', b'e', b'f', b'g'], [b'x', b'y', b'z']]>"
            ]
          },
          "metadata": {},
          "execution_count": 33
        }
      ],
      "source": [
        "example_texts = ['abcdefg', 'xyz']\n",
        "chars = tf.strings.unicode_split(example_texts, input_encoding='UTF-8')\n",
        "chars"
      ]
    },
    {
      "cell_type": "code",
      "execution_count": 34,
      "metadata": {
        "id": "f30TRdUgFF0K"
      },
      "outputs": [],
      "source": [
        "ids_from_chars = tf.keras.layers.StringLookup(vocabulary=list(vocab), mask_token=None)"
      ]
    },
    {
      "cell_type": "code",
      "execution_count": 35,
      "metadata": {
        "id": "wGl69u_kFNwj",
        "colab": {
          "base_uri": "https://localhost:8080/"
        },
        "outputId": "1aedfdcf-c93f-4513-ac86-3024ffb7befe"
      },
      "outputs": [
        {
          "output_type": "execute_result",
          "data": {
            "text/plain": [
              "<tf.RaggedTensor [[40, 41, 42, 43, 44, 45, 46], [63, 64, 65]]>"
            ]
          },
          "metadata": {},
          "execution_count": 35
        }
      ],
      "source": [
        "ids = ids_from_chars(chars)\n",
        "ids"
      ]
    },
    {
      "cell_type": "code",
      "execution_count": 36,
      "metadata": {
        "id": "Xjz1731GFV50"
      },
      "outputs": [],
      "source": [
        "chars_from_ids = tf.keras.layers.StringLookup(\n",
        "    vocabulary=ids_from_chars.get_vocabulary(), invert=True, mask_token=None)"
      ]
    },
    {
      "cell_type": "code",
      "execution_count": 37,
      "metadata": {
        "id": "j9W3uM32Fak-",
        "colab": {
          "base_uri": "https://localhost:8080/"
        },
        "outputId": "9270ad01-3e51-470e-ec7a-650bc0fc9b81"
      },
      "outputs": [
        {
          "output_type": "execute_result",
          "data": {
            "text/plain": [
              "<tf.RaggedTensor [[b'a', b'b', b'c', b'd', b'e', b'f', b'g'], [b'x', b'y', b'z']]>"
            ]
          },
          "metadata": {},
          "execution_count": 37
        }
      ],
      "source": [
        "chars = chars_from_ids(ids)\n",
        "chars"
      ]
    },
    {
      "cell_type": "code",
      "execution_count": 38,
      "metadata": {
        "id": "dNyFsURdFfZc",
        "colab": {
          "base_uri": "https://localhost:8080/"
        },
        "outputId": "58e55985-43e2-4b89-d9de-f5ef68906c4c"
      },
      "outputs": [
        {
          "output_type": "execute_result",
          "data": {
            "text/plain": [
              "array([b'abcdefg', b'xyz'], dtype=object)"
            ]
          },
          "metadata": {},
          "execution_count": 38
        }
      ],
      "source": [
        "tf.strings.reduce_join(chars, axis=-1).numpy()"
      ]
    },
    {
      "cell_type": "code",
      "execution_count": 39,
      "metadata": {
        "id": "pv5dZ6tdFhv6"
      },
      "outputs": [],
      "source": [
        "def text_from_ids(ids):\n",
        "    return tf.strings.reduce_join(chars_from_ids(ids), axis=-1)"
      ]
    },
    {
      "cell_type": "markdown",
      "source": [
        "## Membuat Trianing Set dan Target"
      ],
      "metadata": {
        "id": "Yzva2eX2yZ3e"
      }
    },
    {
      "cell_type": "code",
      "execution_count": 40,
      "metadata": {
        "id": "VfBbMmqvFmcg",
        "colab": {
          "base_uri": "https://localhost:8080/"
        },
        "outputId": "969ae102-ced2-4383-c8b8-c06a2c323ba1"
      },
      "outputs": [
        {
          "output_type": "execute_result",
          "data": {
            "text/plain": [
              "<tf.Tensor: shape=(1115394,), dtype=int64, numpy=array([19, 48, 57, ..., 46,  9,  1])>"
            ]
          },
          "metadata": {},
          "execution_count": 40
        }
      ],
      "source": [
        "all_ids = ids_from_chars(tf.strings.unicode_split(text, 'UTF-8'))\n",
        "all_ids"
      ]
    },
    {
      "cell_type": "code",
      "execution_count": 41,
      "metadata": {
        "id": "7bIvN2lgFr2h"
      },
      "outputs": [],
      "source": [
        "ids_dataset = tf.data.Dataset.from_tensor_slices(all_ids)"
      ]
    },
    {
      "cell_type": "code",
      "execution_count": 42,
      "metadata": {
        "id": "jN6NJ9KBFtl7",
        "colab": {
          "base_uri": "https://localhost:8080/"
        },
        "outputId": "795fb522-02ec-436c-a3ca-617eb84d47be"
      },
      "outputs": [
        {
          "output_type": "stream",
          "name": "stdout",
          "text": [
            "F\n",
            "i\n",
            "r\n",
            "s\n",
            "t\n",
            " \n",
            "C\n",
            "i\n",
            "t\n",
            "i\n"
          ]
        }
      ],
      "source": [
        "for ids in ids_dataset.take(10):\n",
        "    print(chars_from_ids(ids).numpy().decode('utf-8'))"
      ]
    },
    {
      "cell_type": "code",
      "execution_count": 43,
      "metadata": {
        "id": "slPzSt3GFuT8"
      },
      "outputs": [],
      "source": [
        "seq_length = 100"
      ]
    },
    {
      "cell_type": "code",
      "execution_count": 44,
      "metadata": {
        "id": "hU15oRQ6FwhV",
        "colab": {
          "base_uri": "https://localhost:8080/"
        },
        "outputId": "e28f8585-b6bb-447a-9048-1ddba448e6e0"
      },
      "outputs": [
        {
          "output_type": "stream",
          "name": "stdout",
          "text": [
            "tf.Tensor(\n",
            "[b'F' b'i' b'r' b's' b't' b' ' b'C' b'i' b't' b'i' b'z' b'e' b'n' b':'\n",
            " b'\\n' b'B' b'e' b'f' b'o' b'r' b'e' b' ' b'w' b'e' b' ' b'p' b'r' b'o'\n",
            " b'c' b'e' b'e' b'd' b' ' b'a' b'n' b'y' b' ' b'f' b'u' b'r' b't' b'h'\n",
            " b'e' b'r' b',' b' ' b'h' b'e' b'a' b'r' b' ' b'm' b'e' b' ' b's' b'p'\n",
            " b'e' b'a' b'k' b'.' b'\\n' b'\\n' b'A' b'l' b'l' b':' b'\\n' b'S' b'p' b'e'\n",
            " b'a' b'k' b',' b' ' b's' b'p' b'e' b'a' b'k' b'.' b'\\n' b'\\n' b'F' b'i'\n",
            " b'r' b's' b't' b' ' b'C' b'i' b't' b'i' b'z' b'e' b'n' b':' b'\\n' b'Y'\n",
            " b'o' b'u' b' '], shape=(101,), dtype=string)\n"
          ]
        }
      ],
      "source": [
        "sequences = ids_dataset.batch(seq_length+1, drop_remainder=True)\n",
        "\n",
        "for seq in sequences.take(1):\n",
        "  print(chars_from_ids(seq))"
      ]
    },
    {
      "cell_type": "code",
      "execution_count": 45,
      "metadata": {
        "id": "G5mzKfZUFyQm",
        "colab": {
          "base_uri": "https://localhost:8080/"
        },
        "outputId": "d08e7412-aee7-4a3b-8575-b3448337dbb8"
      },
      "outputs": [
        {
          "output_type": "stream",
          "name": "stdout",
          "text": [
            "b'First Citizen:\\nBefore we proceed any further, hear me speak.\\n\\nAll:\\nSpeak, speak.\\n\\nFirst Citizen:\\nYou '\n",
            "b'are all resolved rather to die than to famish?\\n\\nAll:\\nResolved. resolved.\\n\\nFirst Citizen:\\nFirst, you k'\n",
            "b\"now Caius Marcius is chief enemy to the people.\\n\\nAll:\\nWe know't, we know't.\\n\\nFirst Citizen:\\nLet us ki\"\n",
            "b\"ll him, and we'll have corn at our own price.\\nIs't a verdict?\\n\\nAll:\\nNo more talking on't; let it be d\"\n",
            "b'one: away, away!\\n\\nSecond Citizen:\\nOne word, good citizens.\\n\\nFirst Citizen:\\nWe are accounted poor citi'\n"
          ]
        }
      ],
      "source": [
        "for seq in sequences.take(5):\n",
        "    print(text_from_ids(seq).numpy())"
      ]
    },
    {
      "cell_type": "code",
      "execution_count": 46,
      "metadata": {
        "id": "h74EOxGoF0EK"
      },
      "outputs": [],
      "source": [
        "def split_input_target(sequence):\n",
        "    input_text = sequence[:-1]\n",
        "    target_text = sequence[1:]\n",
        "    return input_text, target_text"
      ]
    },
    {
      "cell_type": "code",
      "execution_count": 47,
      "metadata": {
        "id": "-EWfd7_fF8bO",
        "colab": {
          "base_uri": "https://localhost:8080/"
        },
        "outputId": "c324006a-5fc5-437c-cc6a-6ff528791526"
      },
      "outputs": [
        {
          "output_type": "execute_result",
          "data": {
            "text/plain": [
              "(['T', 'e', 'n', 's', 'o', 'r', 'f', 'l', 'o'],\n",
              " ['e', 'n', 's', 'o', 'r', 'f', 'l', 'o', 'w'])"
            ]
          },
          "metadata": {},
          "execution_count": 47
        }
      ],
      "source": [
        "split_input_target(list(\"Tensorflow\"))"
      ]
    },
    {
      "cell_type": "code",
      "execution_count": 48,
      "metadata": {
        "id": "5ZgOEMHAF_vK"
      },
      "outputs": [],
      "source": [
        "dataset = sequences.map(split_input_target)"
      ]
    },
    {
      "cell_type": "code",
      "execution_count": 49,
      "metadata": {
        "id": "1crsXX7HGBUA",
        "colab": {
          "base_uri": "https://localhost:8080/"
        },
        "outputId": "3c0e5a46-da01-406e-800c-96b1aa5e3bf6"
      },
      "outputs": [
        {
          "output_type": "stream",
          "name": "stdout",
          "text": [
            "Input : b'First Citizen:\\nBefore we proceed any further, hear me speak.\\n\\nAll:\\nSpeak, speak.\\n\\nFirst Citizen:\\nYou'\n",
            "Target: b'irst Citizen:\\nBefore we proceed any further, hear me speak.\\n\\nAll:\\nSpeak, speak.\\n\\nFirst Citizen:\\nYou '\n"
          ]
        }
      ],
      "source": [
        "for input_example, target_example in dataset.take(1):\n",
        "    print(\"Input :\", text_from_ids(input_example).numpy())\n",
        "    print(\"Target:\", text_from_ids(target_example).numpy())"
      ]
    },
    {
      "cell_type": "markdown",
      "source": [
        "## Membuat Batch Training"
      ],
      "metadata": {
        "id": "LLJ0i3w2yjVi"
      }
    },
    {
      "cell_type": "code",
      "execution_count": 50,
      "metadata": {
        "id": "rtMQOIbBGCEU",
        "colab": {
          "base_uri": "https://localhost:8080/"
        },
        "outputId": "86fd0ed3-f028-48e4-ac66-4d1b8bea1668"
      },
      "outputs": [
        {
          "output_type": "execute_result",
          "data": {
            "text/plain": [
              "<_PrefetchDataset element_spec=(TensorSpec(shape=(64, 100), dtype=tf.int64, name=None), TensorSpec(shape=(64, 100), dtype=tf.int64, name=None))>"
            ]
          },
          "metadata": {},
          "execution_count": 50
        }
      ],
      "source": [
        "# Batch size\n",
        "BATCH_SIZE = 64\n",
        "\n",
        "# Buffer size to shuffle the dataset\n",
        "# (TF data is designed to work with possibly infinite sequences,\n",
        "# so it doesn't attempt to shuffle the entire sequence in memory. Instead,\n",
        "# it maintains a buffer in which it shuffles elements).\n",
        "BUFFER_SIZE = 10000\n",
        "\n",
        "dataset = (\n",
        "    dataset\n",
        "    .shuffle(BUFFER_SIZE)\n",
        "    .batch(BATCH_SIZE, drop_remainder=True)\n",
        "    .prefetch(tf.data.experimental.AUTOTUNE))\n",
        "\n",
        "dataset"
      ]
    },
    {
      "cell_type": "markdown",
      "source": [
        "## Buat Model"
      ],
      "metadata": {
        "id": "KOdA9pEWyp1Z"
      }
    },
    {
      "cell_type": "code",
      "execution_count": 51,
      "metadata": {
        "id": "DweopvWVGEGg"
      },
      "outputs": [],
      "source": [
        "# Length of the vocabulary in StringLookup Layer\n",
        "vocab_size = len(ids_from_chars.get_vocabulary())\n",
        "\n",
        "# The embedding dimension\n",
        "embedding_dim = 256\n",
        "\n",
        "# Number of RNN units\n",
        "rnn_units = 1024"
      ]
    },
    {
      "cell_type": "code",
      "execution_count": 52,
      "metadata": {
        "id": "uMPXpoJwGHQ6"
      },
      "outputs": [],
      "source": [
        "class MyModel(tf.keras.Model):\n",
        "  def __init__(self, vocab_size, embedding_dim, rnn_units):\n",
        "    super().__init__(self)\n",
        "    self.embedding = tf.keras.layers.Embedding(vocab_size, embedding_dim)\n",
        "    self.gru = tf.keras.layers.GRU(rnn_units,\n",
        "                                   return_sequences=True,\n",
        "                                   return_state=True)\n",
        "    self.dense = tf.keras.layers.Dense(vocab_size)\n",
        "\n",
        "  def call(self, inputs, states=None, return_state=False, training=False):\n",
        "    x = inputs\n",
        "    x = self.embedding(x, training=training)\n",
        "    if states is None:\n",
        "      states = self.gru.get_initial_state(x)\n",
        "    x, states = self.gru(x, initial_state=states, training=training)\n",
        "    x = self.dense(x, training=training)\n",
        "\n",
        "    if return_state:\n",
        "      return x, states\n",
        "    else:\n",
        "      return x"
      ]
    },
    {
      "cell_type": "code",
      "execution_count": 53,
      "metadata": {
        "id": "ZoK5VdYQGIJ2"
      },
      "outputs": [],
      "source": [
        "model = MyModel(\n",
        "    vocab_size=vocab_size,\n",
        "    embedding_dim=embedding_dim,\n",
        "    rnn_units=rnn_units)"
      ]
    },
    {
      "cell_type": "markdown",
      "source": [
        "## Uji Model"
      ],
      "metadata": {
        "id": "Kg7GcnObyu_D"
      }
    },
    {
      "cell_type": "code",
      "execution_count": 54,
      "metadata": {
        "id": "ZeAwiv5IGKOo",
        "colab": {
          "base_uri": "https://localhost:8080/"
        },
        "outputId": "a199f2ed-55eb-43fe-ebd0-ce87f8d8f747"
      },
      "outputs": [
        {
          "output_type": "stream",
          "name": "stdout",
          "text": [
            "(64, 100, 66) # (batch_size, sequence_length, vocab_size)\n"
          ]
        }
      ],
      "source": [
        "for input_example_batch, target_example_batch in dataset.take(1):\n",
        "    example_batch_predictions = model(input_example_batch)\n",
        "    print(example_batch_predictions.shape, \"# (batch_size, sequence_length, vocab_size)\")"
      ]
    },
    {
      "cell_type": "code",
      "execution_count": 55,
      "metadata": {
        "id": "E2_12swuGMX0",
        "colab": {
          "base_uri": "https://localhost:8080/"
        },
        "outputId": "1424a332-3bfe-4871-931b-5bb54f90d56d"
      },
      "outputs": [
        {
          "output_type": "stream",
          "name": "stdout",
          "text": [
            "Model: \"my_model\"\n",
            "_________________________________________________________________\n",
            " Layer (type)                Output Shape              Param #   \n",
            "=================================================================\n",
            " embedding_2 (Embedding)     multiple                  16896     \n",
            "                                                                 \n",
            " gru (GRU)                   multiple                  3938304   \n",
            "                                                                 \n",
            " dense_4 (Dense)             multiple                  67650     \n",
            "                                                                 \n",
            "=================================================================\n",
            "Total params: 4022850 (15.35 MB)\n",
            "Trainable params: 4022850 (15.35 MB)\n",
            "Non-trainable params: 0 (0.00 Byte)\n",
            "_________________________________________________________________\n"
          ]
        }
      ],
      "source": [
        "model.summary()"
      ]
    },
    {
      "cell_type": "code",
      "execution_count": 56,
      "metadata": {
        "id": "ud9OB_9wGPIB"
      },
      "outputs": [],
      "source": [
        "sampled_indices = tf.random.categorical(example_batch_predictions[0], num_samples=1)\n",
        "sampled_indices = tf.squeeze(sampled_indices, axis=-1).numpy()"
      ]
    },
    {
      "cell_type": "code",
      "execution_count": 57,
      "metadata": {
        "id": "du0WsAogGQEl",
        "colab": {
          "base_uri": "https://localhost:8080/"
        },
        "outputId": "30fcb08e-1acd-4bf4-a7fc-a6e0793b6939"
      },
      "outputs": [
        {
          "output_type": "execute_result",
          "data": {
            "text/plain": [
              "array([36, 45,  2, 12, 43, 42, 12,  7, 37, 38, 16, 37, 12, 20, 50, 55, 27,\n",
              "       59, 60, 61, 57, 39, 42, 31, 15, 23,  0, 54, 38, 56,  9, 17, 42, 34,\n",
              "       61, 13, 62, 28,  0, 59, 51, 64, 41,  6, 54, 47, 12, 50, 35, 33, 24,\n",
              "       60, 10, 54, 17, 33, 47, 37,  0, 12, 47, 53,  8,  1, 58, 61, 13, 63,\n",
              "       17, 55, 31, 17, 55, 13, 20,  3,  9, 56, 34, 21, 17, 49, 19, 24, 34,\n",
              "       37, 51, 65, 63, 56, 13, 61, 12, 64, 44, 14, 22, 36, 20, 22])"
            ]
          },
          "metadata": {},
          "execution_count": 57
        }
      ],
      "source": [
        "sampled_indices"
      ]
    },
    {
      "cell_type": "code",
      "execution_count": 58,
      "metadata": {
        "id": "YijOWF8aGSHU",
        "colab": {
          "base_uri": "https://localhost:8080/"
        },
        "outputId": "f4946e76-4d88-4119-c73f-b9f1a2f59e94"
      },
      "outputs": [
        {
          "output_type": "stream",
          "name": "stdout",
          "text": [
            "Input:\n",
            " b' III:\\nHe was in the right; and so indeed it is.\\nTen the clock there. Give me a calendar.\\nWho saw the'\n",
            "\n",
            "Next Char Predictions:\n",
            " b\"Wf ;dc;,XYCX;GkpNtuvrZcRBJ[UNK]oYq.DcUv?wO[UNK]tlyb'oh;kVTKu3oDThX[UNK];hn-\\nsv?xDpRDp?G!.qUHDjFKUXlzxq?v;yeAIWGI\"\n"
          ]
        }
      ],
      "source": [
        "print(\"Input:\\n\", text_from_ids(input_example_batch[0]).numpy())\n",
        "print()\n",
        "print(\"Next Char Predictions:\\n\", text_from_ids(sampled_indices).numpy())"
      ]
    },
    {
      "cell_type": "markdown",
      "source": [
        "## Tambahan optimizer dan fungsi loss"
      ],
      "metadata": {
        "id": "nKaRH-60y14R"
      }
    },
    {
      "cell_type": "code",
      "execution_count": 59,
      "metadata": {
        "id": "aiAI2XElGT5Z"
      },
      "outputs": [],
      "source": [
        "loss = tf.losses.SparseCategoricalCrossentropy(from_logits=True)"
      ]
    },
    {
      "cell_type": "code",
      "execution_count": 60,
      "metadata": {
        "id": "vK63zZ4OGWGF",
        "colab": {
          "base_uri": "https://localhost:8080/"
        },
        "outputId": "df045215-8e4a-4856-850c-d91c4d9c798e"
      },
      "outputs": [
        {
          "output_type": "stream",
          "name": "stdout",
          "text": [
            "Prediction shape:  (64, 100, 66)  # (batch_size, sequence_length, vocab_size)\n",
            "Mean loss:         tf.Tensor(4.1913624, shape=(), dtype=float32)\n"
          ]
        }
      ],
      "source": [
        "example_batch_mean_loss = loss(target_example_batch, example_batch_predictions)\n",
        "print(\"Prediction shape: \", example_batch_predictions.shape, \" # (batch_size, sequence_length, vocab_size)\")\n",
        "print(\"Mean loss:        \", example_batch_mean_loss)"
      ]
    },
    {
      "cell_type": "code",
      "execution_count": 61,
      "metadata": {
        "id": "pzAlDhNUGX7h",
        "colab": {
          "base_uri": "https://localhost:8080/"
        },
        "outputId": "57a49deb-72c3-4a7e-8ab0-7c140d263fa8"
      },
      "outputs": [
        {
          "output_type": "execute_result",
          "data": {
            "text/plain": [
              "66.1128"
            ]
          },
          "metadata": {},
          "execution_count": 61
        }
      ],
      "source": [
        "tf.exp(example_batch_mean_loss).numpy()"
      ]
    },
    {
      "cell_type": "code",
      "execution_count": 62,
      "metadata": {
        "id": "K_KQl10HGaJh"
      },
      "outputs": [],
      "source": [
        "model.compile(optimizer='adam', loss=loss)"
      ]
    },
    {
      "cell_type": "markdown",
      "source": [
        "## Konfigurasi Checkpoints"
      ],
      "metadata": {
        "id": "x-sZ-k1Ay578"
      }
    },
    {
      "cell_type": "code",
      "execution_count": 63,
      "metadata": {
        "id": "Kyi9DZ_5GcQi"
      },
      "outputs": [],
      "source": [
        "# Directory where the checkpoints will be saved\n",
        "checkpoint_dir = './training_checkpoints'\n",
        "# Name of the checkpoint files\n",
        "checkpoint_prefix = os.path.join(checkpoint_dir, \"ckpt_{epoch}\")\n",
        "\n",
        "checkpoint_callback = tf.keras.callbacks.ModelCheckpoint(\n",
        "    filepath=checkpoint_prefix,\n",
        "    save_weights_only=True)"
      ]
    },
    {
      "cell_type": "markdown",
      "source": [
        "## Lakukan Proses Training"
      ],
      "metadata": {
        "id": "S3NOOA95y_dA"
      }
    },
    {
      "cell_type": "code",
      "execution_count": 64,
      "metadata": {
        "id": "ZXgcz6iVGeat"
      },
      "outputs": [],
      "source": [
        "EPOCHS = 20"
      ]
    },
    {
      "cell_type": "code",
      "execution_count": 65,
      "metadata": {
        "id": "U01BcT0BGhpZ",
        "colab": {
          "base_uri": "https://localhost:8080/"
        },
        "outputId": "44c18561-1578-4a7c-ab36-d08c29768fa1"
      },
      "outputs": [
        {
          "output_type": "stream",
          "name": "stdout",
          "text": [
            "Epoch 1/20\n",
            "172/172 [==============================] - 14s 59ms/step - loss: 2.7069\n",
            "Epoch 2/20\n",
            "172/172 [==============================] - 12s 58ms/step - loss: 1.9776\n",
            "Epoch 3/20\n",
            "172/172 [==============================] - 11s 58ms/step - loss: 1.6967\n",
            "Epoch 4/20\n",
            "172/172 [==============================] - 11s 57ms/step - loss: 1.5390\n",
            "Epoch 5/20\n",
            "172/172 [==============================] - 11s 56ms/step - loss: 1.4425\n",
            "Epoch 6/20\n",
            "172/172 [==============================] - 12s 56ms/step - loss: 1.3754\n",
            "Epoch 7/20\n",
            "172/172 [==============================] - 11s 56ms/step - loss: 1.3238\n",
            "Epoch 8/20\n",
            "172/172 [==============================] - 11s 57ms/step - loss: 1.2796\n",
            "Epoch 9/20\n",
            "172/172 [==============================] - 11s 58ms/step - loss: 1.2386\n",
            "Epoch 10/20\n",
            "172/172 [==============================] - 12s 58ms/step - loss: 1.1982\n",
            "Epoch 11/20\n",
            "172/172 [==============================] - 12s 56ms/step - loss: 1.1583\n",
            "Epoch 12/20\n",
            "172/172 [==============================] - 11s 57ms/step - loss: 1.1166\n",
            "Epoch 13/20\n",
            "172/172 [==============================] - 12s 57ms/step - loss: 1.0719\n",
            "Epoch 14/20\n",
            "172/172 [==============================] - 11s 57ms/step - loss: 1.0260\n",
            "Epoch 15/20\n",
            "172/172 [==============================] - 12s 58ms/step - loss: 0.9753\n",
            "Epoch 16/20\n",
            "172/172 [==============================] - 11s 57ms/step - loss: 0.9244\n",
            "Epoch 17/20\n",
            "172/172 [==============================] - 11s 56ms/step - loss: 0.8717\n",
            "Epoch 18/20\n",
            "172/172 [==============================] - 11s 57ms/step - loss: 0.8183\n",
            "Epoch 19/20\n",
            "172/172 [==============================] - 11s 58ms/step - loss: 0.7673\n",
            "Epoch 20/20\n",
            "172/172 [==============================] - 12s 57ms/step - loss: 0.7184\n"
          ]
        }
      ],
      "source": [
        "history = model.fit(dataset, epochs=EPOCHS, callbacks=[checkpoint_callback])"
      ]
    },
    {
      "cell_type": "markdown",
      "source": [
        "## Generate Teks"
      ],
      "metadata": {
        "id": "zNtIfvwXzDeb"
      }
    },
    {
      "cell_type": "code",
      "execution_count": 66,
      "metadata": {
        "id": "jNtOwT36Gjry"
      },
      "outputs": [],
      "source": [
        "class OneStep(tf.keras.Model):\n",
        "  def __init__(self, model, chars_from_ids, ids_from_chars, temperature=1.0):\n",
        "    super().__init__()\n",
        "    self.temperature = temperature\n",
        "    self.model = model\n",
        "    self.chars_from_ids = chars_from_ids\n",
        "    self.ids_from_chars = ids_from_chars\n",
        "\n",
        "    # Create a mask to prevent \"[UNK]\" from being generated.\n",
        "    skip_ids = self.ids_from_chars(['[UNK]'])[:, None]\n",
        "    sparse_mask = tf.SparseTensor(\n",
        "        # Put a -inf at each bad index.\n",
        "        values=[-float('inf')]*len(skip_ids),\n",
        "        indices=skip_ids,\n",
        "        # Match the shape to the vocabulary\n",
        "        dense_shape=[len(ids_from_chars.get_vocabulary())])\n",
        "    self.prediction_mask = tf.sparse.to_dense(sparse_mask)\n",
        "\n",
        "  @tf.function\n",
        "  def generate_one_step(self, inputs, states=None):\n",
        "    # Convert strings to token IDs.\n",
        "    input_chars = tf.strings.unicode_split(inputs, 'UTF-8')\n",
        "    input_ids = self.ids_from_chars(input_chars).to_tensor()\n",
        "\n",
        "    # Run the model.\n",
        "    # predicted_logits.shape is [batch, char, next_char_logits]\n",
        "    predicted_logits, states = self.model(inputs=input_ids, states=states,\n",
        "                                          return_state=True)\n",
        "    # Only use the last prediction.\n",
        "    predicted_logits = predicted_logits[:, -1, :]\n",
        "    predicted_logits = predicted_logits/self.temperature\n",
        "    # Apply the prediction mask: prevent \"[UNK]\" from being generated.\n",
        "    predicted_logits = predicted_logits + self.prediction_mask\n",
        "\n",
        "    # Sample the output logits to generate token IDs.\n",
        "    predicted_ids = tf.random.categorical(predicted_logits, num_samples=1)\n",
        "    predicted_ids = tf.squeeze(predicted_ids, axis=-1)\n",
        "\n",
        "    # Convert from token ids to characters\n",
        "    predicted_chars = self.chars_from_ids(predicted_ids)\n",
        "\n",
        "    # Return the characters and model state.\n",
        "    return predicted_chars, states"
      ]
    },
    {
      "cell_type": "code",
      "execution_count": 67,
      "metadata": {
        "id": "wypb_hKFGl8G"
      },
      "outputs": [],
      "source": [
        "one_step_model = OneStep(model, chars_from_ids, ids_from_chars)"
      ]
    },
    {
      "cell_type": "code",
      "execution_count": 68,
      "metadata": {
        "id": "5zNtqItFGoYN",
        "colab": {
          "base_uri": "https://localhost:8080/"
        },
        "outputId": "d2570bfd-fcd5-4e6c-a46f-166f5107a519"
      },
      "outputs": [
        {
          "output_type": "stream",
          "name": "stdout",
          "text": [
            "ROMEO:\n",
            "How but well say?\n",
            "\n",
            "LUCENTIO:\n",
            "Lech our own proceeding trees, and lively will,\n",
            "Cursessing to hell have softer bear. If could not stay unto\n",
            "quancilike thou my services.\n",
            "\n",
            "Citizens:\n",
            "Now suffer's, my lord.\n",
            "\n",
            "KING RICHARD III:\n",
            "Say, you will discontent it was too hither brought\n",
            "A model of the impose: he that lies in thee,\n",
            "Displacued the step; for one poor bark with welcome!\n",
            "\n",
            "DUKE VINCENTIO:\n",
            "That he would not, knowing what you shall swear;\n",
            "Where I shall accuse this gentleman and swoonest,\n",
            "Your father thereof makes one foot Criffoft. Sprigate,\n",
            "To make the fire of what yield to her herses?\n",
            "\n",
            "Second Murderer:\n",
            "Let him fool; there is strange for Claudio's duty!\n",
            "\n",
            "LUCENTIO:\n",
            "And women are so annight, like confession well.\n",
            "Hollat! I did remain.\n",
            "\n",
            "DUKE VINCENTIO:\n",
            "Fiend sir, sir, he'll be delicer'd, by some another\n",
            "After of Bohemia's and the lany was false\n",
            "Slain awhile. You have painted laugh aimnon of mine\n",
            "Or invereforated had dropp'd my body to sockaribal;\n",
            "That is, she bid me speak with him!--\n",
            "With bloody \n",
            "\n",
            "________________________________________________________________________________\n",
            "\n",
            "Run time: 3.7675912380218506\n"
          ]
        }
      ],
      "source": [
        "start = time.time()\n",
        "states = None\n",
        "next_char = tf.constant(['ROMEO:'])\n",
        "result = [next_char]\n",
        "\n",
        "for n in range(1000):\n",
        "  next_char, states = one_step_model.generate_one_step(next_char, states=states)\n",
        "  result.append(next_char)\n",
        "\n",
        "result = tf.strings.join(result)\n",
        "end = time.time()\n",
        "print(result[0].numpy().decode('utf-8'), '\\n\\n' + '_'*80)\n",
        "print('\\nRun time:', end - start)"
      ]
    },
    {
      "cell_type": "code",
      "execution_count": 69,
      "metadata": {
        "id": "FcEzHNUaGqVH",
        "colab": {
          "base_uri": "https://localhost:8080/"
        },
        "outputId": "6694a5ec-d398-4c8e-d9d2-0f303de8f38a"
      },
      "outputs": [
        {
          "output_type": "stream",
          "name": "stdout",
          "text": [
            "tf.Tensor(\n",
            "[b\"ROMEO:\\nGood morrow to their scratch! O dishonest wretch!\\nWhat God you think, sir?\\n\\nLUCIO:\\nThat's likewise possible; on the orator,\\nIf you will his my body shall she, my liege,\\nMy left her gown, sir, being on't ask: but, sir,\\nwhen he gives our batters; and sit passing exilith:\\nHenry of a better but a foot\\nCaius Marcius, though nothing light repose his helm:\\nNisteed post, will go with telling where he wounded;\\nForced by this it is too great and horses,\\nCell-courteous the queen's blows.\\n\\nPERDITA:\\nO, I your duty!\\nO, then, I dread not more than these two ather.\\nABrayland, for thy liping steel about him,\\nNor mortal to Domb Enchanother.\\n\\nClown:\\nSo pace of hers, consider little as\\nin hand that wouldst die for this fellow?\\nMean till my sword we pait: let that place.\\n\\nPAULINA:\\nCall forth that cushions, I\\nWart through the hand of that word 'tis.\\n\\nLUCENTIO:\\nBut is it not so.\\n\\nISABELLA:\\nUngued'st him from fifte your boy? nay, come, sir.\\n\\nYORK:\\nSo must I believe them: therefore Dulkness,\\nWere you of with \"\n",
            " b\"ROMEO:\\nHow brother Mockity, any child!\\n'Tis not distubbed on a fellow:\\nTherefore wast thou so bard of himself time\\nHis help is in thine eyes from thee of it.\\n\\nProvost:\\nTurn guilty; and signior Claudio is,\\nAnd then my griefs hidself to know.\\nWill I fear it in: in war is unlikely\\nIn sake you till he had only son.\\nSeize the wall: and like an ejual request\\nWas made us for piles.\\nO, in his face, nob me to make thee grace,\\nAnd fie us all and slip: but for our shant woe, fortubel!\\nFell Margaret, ay, and then in bride,\\nWhiles on the way with victor or slaves, your powers\\n'Twixt his own goody in a chall'd bodies to\\nthem,--here is my son Andem Thy queen,\\nAs by the isle and Duke of Lancaster,\\nEither he be sky's resolution, with\\nhis uncle and unrust once power in halt.\\nMore torn, my life, poor soul!\\n\\nBRUTUS:\\nWe woo deliver'd weep in quiet; hereafter thanks,\\nFor sorrow earnest, against his honour as a\\nmistress was mine: our father's ride be the actorn.\\n\\nKING RICHARD II:\\nUpher that to this woman of thine;\"\n",
            " b\"ROMEO:\\nGet you go to: take either than I lived.\\n\\nLUCIO:\\nFie, what a neck's blood drink by his own delicious?\\nMake is foul weather in an adua-spriar bot?\\n\\nDUKE OF AUMERLE:\\nMy lords, make men have soined as she will.\\nFarewell! Show misuse with mistress Salisbury with him that:\\nSuch affabler, afterdion of sheir pleasers touch,\\nA heaven so bad a bounteous body, of what\\nWhich I unwise him. But it is: say I\\nam it still, our countryman.\\n\\nMENENIUS:\\nThe gold\\nthoughts of it, my lord.\\n\\nSEBASTIAN:\\nSoft so night-faming you, if he heard me,\\nPerjured thy best order, thus scalf'd off the walls\\nWith wine and lowly--than my guiltings.\\nMy daughter's head; the pretern our stones 'for my rage\\ndidst be compellior'd: still us thy peace:\\nFirst, then great rebels hear me again,\\nThe enemies that he hiese.\\n\\nGREMIO:\\nAmen, say you know. Spake not to't.\\n\\nMENENIUS:\\nWhy, then lie dellut,\\nWhen she did climble punised how mean holds\\nHer eyes do Apen talk of accident call;\\nAnd frame thy birth-ports by your disporping slaves,\\n\"\n",
            " b\"ROMEO:\\nThou shalt not be muse,--O know your will, good my limbs.\\n\\nKATHARINA:\\nI done in another severe;\\nBut my unsquain'd welcome heavy loyalty,\\nO'erelower, his repart, that wretch did great Bohemby Shoo.\\n\\nDUKE OF AUMERLE:\\nUnhappier, a prize.\\n\\nSpeakn well thou got villain! who was done this?\\n\\nFLORIZEL:\\nSo, farewell.\\nO, that I am in tune by this night.\\n\\nJOHN OF GAUNT:\\nWhat stay? usence with her maidhen, peace! thou shalt not\\nbe. Come on, my masters! have you to death.\\n\\nGLOUCESTER:\\nMy liberty his words Signior Baptista, be blind,\\nIt desert bestow letting it thee\\nTo me unpropedle. How is it being wonation,\\nNothing from the motul that my power at ocks,\\nWhen you cast my care for this day.\\nPray now, old God, you pawn them in a thimble.\\n\\nGONZALO:\\nGentlemen, come, my lord. A sleeping god!\\n\\nEDWARD:\\nLord marsway, wherefore dost thou slay thyself;\\nFor then thou wouldst not say, 'I would it not\\nTouch the like depart, thrusts there were fairer where:\\nTo-morrow with this man his beads to right\\nThat brave p\"\n",
            " b\"ROMEO:\\nWhy strew these sorrows on a dishonour leas'd?\\nIf I did this be done!\\nShave being glasposed that my father were colant\\nHave more than of his knaving brother tod.\\n\\nKATHARINA:\\nGive me thy brother: say you see that you missake?\\n\\nMENENIUS:\\nAy, and more:\\nAnd I will fight, by the air with slaughter'd son.\\n\\nGidst Camillo;\\nI tell thee what is past, go content.\\nWhat is the cent of them? if these both doth saying,\\nMore terrible stay with slain of water and play\\nAnd shrend out jumb. when you shall know it I\\nAm proof at plain as thou? and bow, the gentleman:\\nHe ours of him.\\n\\nGLOUCESTER:\\nWhy, mistress Shoill sorrow shines she that good Mennio?\\n\\nTERBRINA:\\nO Six owns, as by a worder,\\nAs 'twere the sword of high will hither born to bed.\\nPecuased that I do so! All of your grace.\\nAnd why 'silver shall be so: Queen Margaret,\\nWith such birth, yet, and I dound to you,\\nWhat you have made inksain of what is nothing?\\nThis gentleman that you have been no more.\\nHadst thou been kill'd my friends, I am in their\\n\"], shape=(5,), dtype=string) \n",
            "\n",
            "________________________________________________________________________________\n",
            "\n",
            "Run time: 3.4591290950775146\n"
          ]
        }
      ],
      "source": [
        "start = time.time()\n",
        "states = None\n",
        "next_char = tf.constant(['ROMEO:', 'ROMEO:', 'ROMEO:', 'ROMEO:', 'ROMEO:'])\n",
        "result = [next_char]\n",
        "\n",
        "for n in range(1000):\n",
        "  next_char, states = one_step_model.generate_one_step(next_char, states=states)\n",
        "  result.append(next_char)\n",
        "\n",
        "result = tf.strings.join(result)\n",
        "end = time.time()\n",
        "print(result, '\\n\\n' + '_'*80)\n",
        "print('\\nRun time:', end - start)"
      ]
    },
    {
      "cell_type": "markdown",
      "source": [
        "## Ekspor Model Generator"
      ],
      "metadata": {
        "id": "wDXRfs1fzMiX"
      }
    },
    {
      "cell_type": "code",
      "execution_count": 70,
      "metadata": {
        "id": "F2yfU4pGGswp",
        "colab": {
          "base_uri": "https://localhost:8080/"
        },
        "outputId": "4f54b397-0cb2-4111-d85e-7d750b0b6fb9"
      },
      "outputs": [
        {
          "output_type": "stream",
          "name": "stderr",
          "text": [
            "WARNING:tensorflow:Skipping full serialization of Keras layer <__main__.OneStep object at 0x782cdb9ce2c0>, because it is not built.\n",
            "WARNING:tensorflow:Model's `__init__()` arguments contain non-serializable objects. Please implement a `get_config()` method in the subclassed Model for proper saving and loading. Defaulting to empty config.\n",
            "WARNING:tensorflow:Model's `__init__()` arguments contain non-serializable objects. Please implement a `get_config()` method in the subclassed Model for proper saving and loading. Defaulting to empty config.\n"
          ]
        }
      ],
      "source": [
        "tf.saved_model.save(one_step_model, 'one_step')\n",
        "one_step_reloaded = tf.saved_model.load('one_step')"
      ]
    },
    {
      "cell_type": "code",
      "execution_count": 71,
      "metadata": {
        "id": "T_R2d8k2GwBT",
        "colab": {
          "base_uri": "https://localhost:8080/"
        },
        "outputId": "1840ca28-9416-427e-bdce-09ea19dfb287"
      },
      "outputs": [
        {
          "output_type": "stream",
          "name": "stdout",
          "text": [
            "ROMEO:\n",
            "The yarnible of poor Clarence dedy thy\n",
            "studies, sepious, these graces brothers.\n",
            "\n",
            "Second Citizen:\n",
            "Ba\n"
          ]
        }
      ],
      "source": [
        "states = None\n",
        "next_char = tf.constant(['ROMEO:'])\n",
        "result = [next_char]\n",
        "\n",
        "for n in range(100):\n",
        "  next_char, states = one_step_reloaded.generate_one_step(next_char, states=states)\n",
        "  result.append(next_char)\n",
        "\n",
        "print(tf.strings.join(result)[0].numpy().decode(\"utf-8\"))"
      ]
    },
    {
      "cell_type": "markdown",
      "source": [
        "# Tugas"
      ],
      "metadata": {
        "id": "5sf0I0E1zaPF"
      }
    },
    {
      "cell_type": "markdown",
      "source": [
        "Prosedur pelatihan pada praktikum 2 merupakan prosedur sederhana, yang tidak memberi kita banyak kendali. Model ini menggunakan \"teacher-forcing\" yang mencegah prediksi buruk diumpankan kembali ke model, sehingga model tidak pernah belajar untuk pulih dari kesalahan.\n",
        "\n",
        "Jadi, setelah kita melihat cara menjalankan model secara manual, selanjutnya kita akan mengimplementasikan custom loop pelatihan. Hal ini memberikan titik awal jika, misalnya, kita ingin menerapkan pembelajaran kurikulum untuk membantu menstabilkan keluaran open-loop model. Bagian terpenting dari loop pelatihan khusus adalah fungsi langkah pelatihan.\n",
        "\n",
        "Gunakan `tf.GradientTape` untuk men track nilai gradient. Kita dapat mempelajari lebih lanjut tentang pendekatan ini dengan membaca [eager execution guide](https://www.tensorflow.org/guide/eager).\n",
        "Prosedurnya adalah:\n",
        "1. Jalankan Model dan hitung loss dengan `tf.GradientTape`.\n",
        "2. Hitung update dan terapkan pada model dengan optimizer."
      ],
      "metadata": {
        "id": "UlFbw_xd0iBX"
      }
    },
    {
      "cell_type": "code",
      "source": [
        "class CustomTraining(MyModel):\n",
        "  @tf.function\n",
        "  def train_step(self, inputs):\n",
        "    inputs, labels = inputs\n",
        "    with tf.GradientTape() as tape:\n",
        "      predictions = self(inputs, training=True)\n",
        "      loss = self.loss(labels, predictions)\n",
        "      grads = tape.gradient(loss, model.trainable_variables)\n",
        "      self.optimizer.apply_gradients(zip(grads, model.trainable_variables))\n",
        "\n",
        "      return {'loss': loss}"
      ],
      "metadata": {
        "id": "CYhFkAFAzcFC"
      },
      "execution_count": 72,
      "outputs": []
    },
    {
      "cell_type": "markdown",
      "source": [
        "Kode diatas menerapkan train_step method sesuai dengan  [Keras' train_step conventions](https://www.tensorflow.org/guide/keras/customizing_what_happens_in_fit). Ini opsional, tetapi memungkinkan kita mengubah perilaku langkah pelatihan dan tetap menggunakan keras [Model.compile](https://www.tensorflow.org/api_docs/python/tf/keras/Model#compile) and [Model.fit](https://www.tensorflow.org/api_docs/python/tf/keras/Model#fit) methods."
      ],
      "metadata": {
        "id": "a93gkLaR1AB0"
      }
    },
    {
      "cell_type": "code",
      "source": [
        "model = CustomTraining(\n",
        "    vocab_size=len(ids_from_chars.get_vocabulary()),\n",
        "    embedding_dim=embedding_dim,\n",
        "    rnn_units=rnn_units)"
      ],
      "metadata": {
        "id": "uunSxK-Oz0Uk"
      },
      "execution_count": 73,
      "outputs": []
    },
    {
      "cell_type": "code",
      "source": [
        "model.compile(optimizer = tf.keras.optimizers.Adam(),\n",
        "              loss=tf.keras.losses.SparseCategoricalCrossentropy(from_logits=True))"
      ],
      "metadata": {
        "id": "QL2tyXS9z3mm"
      },
      "execution_count": 74,
      "outputs": []
    },
    {
      "cell_type": "code",
      "source": [
        "model.fit(dataset, epochs=1)"
      ],
      "metadata": {
        "id": "icEuHinoz8Cj",
        "colab": {
          "base_uri": "https://localhost:8080/"
        },
        "outputId": "4afae3dd-c900-4d0b-ac49-def6bd194573"
      },
      "execution_count": 75,
      "outputs": [
        {
          "output_type": "stream",
          "name": "stdout",
          "text": [
            "172/172 [==============================] - 15s 57ms/step - loss: 2.6981\n"
          ]
        },
        {
          "output_type": "execute_result",
          "data": {
            "text/plain": [
              "<keras.src.callbacks.History at 0x782cd95939a0>"
            ]
          },
          "metadata": {},
          "execution_count": 75
        }
      ]
    },
    {
      "cell_type": "markdown",
      "source": [
        "Atau jika ingin lebih mengetahui dalamnya, kita bisa membuat custom training loop sendiri:"
      ],
      "metadata": {
        "id": "Z7qxgI6i1mvI"
      }
    },
    {
      "cell_type": "code",
      "source": [
        "EPOCHS = 10\n",
        "\n",
        "mean = tf.metrics.Mean()\n",
        "\n",
        "for epoch in range(EPOCHS):\n",
        "  start = time.time()\n",
        "  mean.reset_states()\n",
        "\n",
        "  for (batch_n, (inp, target)) in enumerate(dataset):\n",
        "    logs = model.train_step([inp, target])\n",
        "    mean.update_state(logs['loss'])\n",
        "\n",
        "    if batch_n % 50 == 0:\n",
        "      template = f\"Epoch {epoch+1} Batch {batch_n} Loss {logs['loss']:.4f}\"\n",
        "      print(template)\n",
        "\n",
        "  # saving (checkpoint) the model every 5 epochs\n",
        "  if (epoch + 1) % 5 == 0:\n",
        "    model.save_weights(checkpoint_prefix.format(epoch=epoch))\n",
        "  print()\n",
        "  print(f'Epoch {epoch+1} Loss: {mean.result().numpy():.4f}')\n",
        "  print(f'Time taken for 1 epoch {time.time() - start:.2f} sec')\n",
        "  print(\"_\"*80)\n",
        "\n",
        "model.save_weights(checkpoint_prefix.format(epoch=epoch))"
      ],
      "metadata": {
        "id": "bXbPMOdfz-Du",
        "colab": {
          "base_uri": "https://localhost:8080/"
        },
        "outputId": "a5dcf15d-637c-4518-ee73-95b270d9ffed"
      },
      "execution_count": 78,
      "outputs": [
        {
          "output_type": "stream",
          "name": "stdout",
          "text": [
            "Epoch 1 Batch 0 Loss 1.1529\n",
            "Epoch 1 Batch 50 Loss 1.1841\n",
            "Epoch 1 Batch 100 Loss 1.1944\n",
            "Epoch 1 Batch 150 Loss 1.2234\n",
            "\n",
            "Epoch 1 Loss: 1.1968\n",
            "Time taken for 1 epoch 10.97 sec\n",
            "________________________________________________________________________________\n",
            "Epoch 2 Batch 0 Loss 1.1565\n",
            "Epoch 2 Batch 50 Loss 1.1482\n",
            "Epoch 2 Batch 100 Loss 1.1380\n",
            "Epoch 2 Batch 150 Loss 1.1513\n",
            "\n",
            "Epoch 2 Loss: 1.1569\n",
            "Time taken for 1 epoch 11.65 sec\n",
            "________________________________________________________________________________\n",
            "Epoch 3 Batch 0 Loss 1.0986\n",
            "Epoch 3 Batch 50 Loss 1.0947\n",
            "Epoch 3 Batch 100 Loss 1.1500\n",
            "Epoch 3 Batch 150 Loss 1.1225\n",
            "\n",
            "Epoch 3 Loss: 1.1146\n",
            "Time taken for 1 epoch 11.61 sec\n",
            "________________________________________________________________________________\n",
            "Epoch 4 Batch 0 Loss 1.0377\n",
            "Epoch 4 Batch 50 Loss 1.0859\n",
            "Epoch 4 Batch 100 Loss 1.0651\n",
            "Epoch 4 Batch 150 Loss 1.0571\n",
            "\n",
            "Epoch 4 Loss: 1.0716\n",
            "Time taken for 1 epoch 11.10 sec\n",
            "________________________________________________________________________________\n",
            "Epoch 5 Batch 0 Loss 0.9924\n",
            "Epoch 5 Batch 50 Loss 1.0215\n",
            "Epoch 5 Batch 100 Loss 1.0331\n",
            "Epoch 5 Batch 150 Loss 1.0413\n",
            "\n",
            "Epoch 5 Loss: 1.0246\n",
            "Time taken for 1 epoch 11.88 sec\n",
            "________________________________________________________________________________\n",
            "Epoch 6 Batch 0 Loss 0.9365\n",
            "Epoch 6 Batch 50 Loss 0.9177\n",
            "Epoch 6 Batch 100 Loss 0.9624\n",
            "Epoch 6 Batch 150 Loss 0.9884\n",
            "\n",
            "Epoch 6 Loss: 0.9749\n",
            "Time taken for 1 epoch 11.89 sec\n",
            "________________________________________________________________________________\n",
            "Epoch 7 Batch 0 Loss 0.8898\n",
            "Epoch 7 Batch 50 Loss 0.9219\n",
            "Epoch 7 Batch 100 Loss 0.9261\n",
            "Epoch 7 Batch 150 Loss 0.9416\n",
            "\n",
            "Epoch 7 Loss: 0.9244\n",
            "Time taken for 1 epoch 20.47 sec\n",
            "________________________________________________________________________________\n",
            "Epoch 8 Batch 0 Loss 0.8409\n",
            "Epoch 8 Batch 50 Loss 0.8574\n",
            "Epoch 8 Batch 100 Loss 0.8859\n",
            "Epoch 8 Batch 150 Loss 0.8965\n",
            "\n",
            "Epoch 8 Loss: 0.8729\n",
            "Time taken for 1 epoch 11.24 sec\n",
            "________________________________________________________________________________\n",
            "Epoch 9 Batch 0 Loss 0.7666\n",
            "Epoch 9 Batch 50 Loss 0.7859\n",
            "Epoch 9 Batch 100 Loss 0.8017\n",
            "Epoch 9 Batch 150 Loss 0.8658\n",
            "\n",
            "Epoch 9 Loss: 0.8212\n",
            "Time taken for 1 epoch 11.38 sec\n",
            "________________________________________________________________________________\n",
            "Epoch 10 Batch 0 Loss 0.7430\n",
            "Epoch 10 Batch 50 Loss 0.7552\n",
            "Epoch 10 Batch 100 Loss 0.7673\n",
            "Epoch 10 Batch 150 Loss 0.8086\n",
            "\n",
            "Epoch 10 Loss: 0.7708\n",
            "Time taken for 1 epoch 11.34 sec\n",
            "________________________________________________________________________________\n"
          ]
        }
      ]
    },
    {
      "cell_type": "markdown",
      "source": [
        "Jalankan kode di atas dan sebutkan perbedaanya dengan praktikum 2?"
      ],
      "metadata": {
        "id": "w3GC2ib_1r-r"
      }
    }
  ],
  "metadata": {
    "colab": {
      "provenance": [],
      "gpuType": "T4",
      "include_colab_link": true
    },
    "kernelspec": {
      "display_name": "Python 3",
      "name": "python3"
    },
    "language_info": {
      "name": "python"
    },
    "accelerator": "GPU"
  },
  "nbformat": 4,
  "nbformat_minor": 0
}